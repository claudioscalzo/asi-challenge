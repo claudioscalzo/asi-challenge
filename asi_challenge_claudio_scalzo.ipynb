{
 "cells": [
  {
   "cell_type": "markdown",
   "metadata": {},
   "source": [
    "### <div class=\"label label-info\">CLAUDIO SCALZO</div>\n",
    "# ASI Challenge Exercise\n",
    "### Naive Bayes Classification and Bayesian Linear Regression on the <tt>Fashion-MNIST</tt> and <tt>CIFAR-10</tt> datasets"
   ]
  },
  {
   "cell_type": "markdown",
   "metadata": {},
   "source": [
    "<div class='alert alert-info'>\n",
    "<div class='label label-info'>INSTRUCTIONS TO RUN THE NOTEBOOK</div>\n",
    "<br>\n",
    "To be able to run the notebook the only thing to ensure is that the datasets are in the correct directories. The following structure is the correct one:\n",
    "<code>\n",
    "- asi_challenge_claudio_scalzo.ipynb\n",
    "- datasets/\n",
    "    - Fashion-MNIST/\n",
    "        - fashion-mnist_train.csv\n",
    "        - fashion-mnist_test.csv\n",
    "    - CIFAR-10/\n",
    "        - data_batch_1\n",
    "        - data_batch_2\n",
    "        - data_batch_3\n",
    "        - data_batch_4\n",
    "        - data_batch_5\n",
    "        - test_batch\n",
    "</code>\n",
    "<br>\n",
    "<div class='label label-info'>COLORS</div>\n",
    "<br>\n",
    "For the sake of readability, the notebook will follow a color convention:\n",
    "<br>\n",
    "<ul>\n",
    "    <li>All the cells related to the <tt>Fashion-MNIST</tt> dataset will be in green and labeled with: <div class=\"label label-success\">FASHION-MNIST</div></li>\n",
    "    <li>All the cells related to the <tt>CIFAR-10</tt> dataset will be in yellow and labeled with: <div class=\"label label-warning\">CIFAR-10</div></li>\n",
    "    <li>All the blue cells are generic comments and the answers to the exercise questions are marked with: <div class=\"label label-danger\">ANSWER</div></li>\n",
    "</ul>\n",
    "<br>\n",
    "<div class='label label-info'>SECTIONS</div>\n",
    "<br>\n",
    "The sections numbering will follow exactly the one provided in the requirements PDF.\n",
    "</div>"
   ]
  },
  {
   "cell_type": "code",
   "execution_count": 1,
   "metadata": {},
   "outputs": [],
   "source": [
    "### LIBRARIES IMPORT\n",
    "\n",
    "# Data structures\n",
    "import numpy as np\n",
    "import pandas as pd\n",
    "from numpy.linalg import inv\n",
    "\n",
    "# Plot\n",
    "import seaborn as sns\n",
    "import matplotlib.pyplot as plt\n",
    "\n",
    "# Utilities\n",
    "import math as math\n",
    "from time import time, sleep\n",
    "import pickle\n",
    "import itertools\n",
    "\n",
    "# Distrubutions\n",
    "from scipy.stats import skew, probplot, multivariate_normal\n",
    "\n",
    "# Error\n",
    "from sklearn.metrics import explained_variance_score, mean_squared_error, confusion_matrix"
   ]
  },
  {
   "cell_type": "markdown",
   "metadata": {},
   "source": [
    "# 1. Datasets loading"
   ]
  },
  {
   "cell_type": "markdown",
   "metadata": {},
   "source": [
    "<div class='alert alert-info'>\n",
    "The first step consists in the datasets import. This process will be split in two parts, one for the <tt>Fashion-MNIST</tt> dataset and another one for the <tt>CIFAR-10</tt> dataset. While in the first case it will be very easy (being the dataset saved in <b>csv</b> files), in the seconds case the process will be longer, because the CIFAR datasets are saved in <b>binary</b> files.\n",
    "</div>"
   ]
  },
  {
   "cell_type": "markdown",
   "metadata": {},
   "source": [
    "### <div class=\"label label-success\">FASHION-MNIST</div>"
   ]
  },
  {
   "cell_type": "markdown",
   "metadata": {},
   "source": [
    "<div class='alert alert-success'>\n",
    "Let's define the datasets location and load them in two Pandas DataFrame: <tt>mnistTrain</tt> and <tt>mnistTest</tt>.\n",
    "</div>"
   ]
  },
  {
   "cell_type": "code",
   "execution_count": 2,
   "metadata": {},
   "outputs": [],
   "source": [
    "# DIRECTORY AND CONSTANTS DEFINITION\n",
    "mnistPath = \"./datasets/Fashion-MNIST/\"\n",
    "height = 28\n",
    "width = 28\n",
    "\n",
    "# FILEPATHS DEFINITION\n",
    "mnistTrainFile = mnistPath + \"fashion-mnist_train.csv\"\n",
    "mnistTestFile = mnistPath + \"fashion-mnist_test.csv\"\n",
    "\n",
    "# LOAD THE MNIST AND CIFAR TRAINSET AND DATASET\n",
    "mnistTrain = pd.read_csv(mnistTrainFile)\n",
    "mnistTest = pd.read_csv(mnistTestFile)"
   ]
  },
  {
   "cell_type": "markdown",
   "metadata": {},
   "source": [
    "<div class='alert alert-success'>\n",
    "Now we can show some example of the loaded data:\n",
    "</div>"
   ]
  },
  {
   "cell_type": "code",
   "execution_count": 3,
   "metadata": {},
   "outputs": [
    {
     "data": {
      "image/png": "[encoded data removed]",
      "text/plain": [
       "<Figure size 1080x720 with 6 Axes>"
      ]
     },
     "metadata": {},
     "output_type": "display_data"
    }
   ],
   "source": [
    "# SHOW SOME SAMPLES\n",
    "plt.figure(figsize=(15,10))\n",
    "for i in range(6):\n",
    "    plt.subplot(1,6,i+1)\n",
    "    image = mnistTrain.drop(columns=[\"label\"]).loc[i].values.reshape((height, width))\n",
    "    plt.imshow(image, cmap=\"gray\")\n",
    "plt.tight_layout()\n",
    "plt.show()"
   ]
  },
  {
   "cell_type": "markdown",
   "metadata": {},
   "source": [
    "### <div class=\"label label-warning\">CIFAR-10</div>"
   ]
  },
  {
   "cell_type": "markdown",
   "metadata": {},
   "source": [
    "<div class='alert alert-warning'>\n",
    "First of all, we have to declare the path of the <tt>CIFAR-10</tt> datasets and some useful values:\n",
    "</div>"
   ]
  },
  {
   "cell_type": "code",
   "execution_count": 4,
   "metadata": {},
   "outputs": [],
   "source": [
    "# DIRECTORY AND CONSTANTS DEFINITION\n",
    "cifarPath = \"./datasets/CIFAR-10/\"\n",
    "trainfiles = 5\n",
    "height = 32\n",
    "width = 32\n",
    "channels = 3\n",
    "pixels = height * width * channels"
   ]
  },
  {
   "cell_type": "markdown",
   "metadata": {},
   "source": [
    "<div class='alert alert-warning'>\n",
    "Now, let's define a function to load a single binary file which contains a certain number of images:\n",
    "</div>"
   ]
  },
  {
   "cell_type": "code",
   "execution_count": 5,
   "metadata": {},
   "outputs": [],
   "source": [
    "# FUNCTION TO LOAD A SINGLE TRAINFILE\n",
    "def loadImages(filename, height, width, channels):\n",
    "    \n",
    "    # Load binary file\n",
    "    file = open(filename, \"rb\")\n",
    "    \n",
    "    # Unpickle\n",
    "    data = pickle.load(file, encoding=\"bytes\")\n",
    "    \n",
    "    # Get raw images and raw classes\n",
    "    rawImages = data[b'data']\n",
    "    rawClasses = data[b'labels']\n",
    "    \n",
    "    return np.array(rawImages, dtype=int), np.array(rawClasses, dtype=int)"
   ]
  },
  {
   "cell_type": "markdown",
   "metadata": {},
   "source": [
    "<div class='alert alert-warning'>\n",
    "Now it's time to use the previous function to load all the five <b>trainsets</b> in our directory: they will be merged in a unique Pandas DataFrame named <tt>cifarTrain</tt>.\n",
    "</div>"
   ]
  },
  {
   "cell_type": "code",
   "execution_count": 6,
   "metadata": {},
   "outputs": [],
   "source": [
    "# ALLOCATE AN EMPTY ARRAY (width of number of pixels + one for the class label)\n",
    "images = np.empty(shape=(0, pixels + 1), dtype=int)\n",
    "\n",
    "# LOAD ALL THE TRAINFILES\n",
    "for i in range(trainfiles):\n",
    "    \n",
    "    # Load the images and classes for the \"i\"th trainfile\n",
    "    newImages, newClasses = loadImages(filename = cifarPath + \"data_batch_\" + str(i + 1),\n",
    "                                       height = height,\n",
    "                                       width = width,\n",
    "                                       channels = channels)\n",
    "    \n",
    "    # Create the new batch (concatenating images and classes)\n",
    "    newBatch = np.concatenate((np.asmatrix(newClasses).T, newImages), axis=1)\n",
    "    \n",
    "    # Concatenate the new batch with the previous ones\n",
    "    images = np.concatenate((images, newBatch), axis=0)\n",
    "\n",
    "# CREATE THE TRAIN DATAFRAME\n",
    "attributes = [(\"pixel\" + str(i) + \"_\" + str(c)) for c in [\"r\", \"g\", \"b\"] for i in range(height * width)]\n",
    "cifarTrain = pd.DataFrame(images, columns = [\"label\"] + attributes)"
   ]
  },
  {
   "cell_type": "markdown",
   "metadata": {},
   "source": [
    "<div class='alert alert-warning'>\n",
    "The <tt>cifarTrain</tt> has been imported, now let's do the same for the file containing the <b>testset</b>: also in this case, it will be saved in a dataframe, <tt>cifarTest</tt>.\n",
    "</div>"
   ]
  },
  {
   "cell_type": "code",
   "execution_count": 7,
   "metadata": {},
   "outputs": [],
   "source": [
    "# LOAD THE IMAGES AND CLASSES\n",
    "newImages, newClasses = loadImages(filename = cifarPath + \"test_batch\",\n",
    "                                   height = height,\n",
    "                                   width = width,\n",
    "                                   channels = channels)\n",
    "\n",
    "# CREATE THE IMAGES ARRAY (concatenating images and classes)\n",
    "images = np.concatenate((np.asmatrix(newClasses).T, newImages), axis=1)\n",
    "\n",
    "# CREATE THE TEST DATAFRAME\n",
    "attributes = [(\"pixel\" + str(i) + \"_\" + str(c)) for i in range(height * width) for c in [\"r\", \"g\", \"b\"]]\n",
    "cifarTest = pd.DataFrame(images, columns = [\"label\"] + attributes)"
   ]
  },
  {
   "cell_type": "markdown",
   "metadata": {},
   "source": [
    "<div class='alert alert-warning'>\n",
    "Now we can show some example of the loaded data:\n",
    "</div>"
   ]
  },
  {
   "cell_type": "code",
   "execution_count": 8,
   "metadata": {},
   "outputs": [
    {
     "data": {
      "image/png": "[encoded data removed]",
      "text/plain": [
       "<Figure size 1080x720 with 6 Axes>"
      ]
     },
     "metadata": {},
     "output_type": "display_data"
    }
   ],
   "source": [
    "# SHOW SOME SAMPLES\n",
    "plt.figure(figsize=(15,10))\n",
    "for i in range(0,6):\n",
    "    plt.subplot(1,6,i+1)\n",
    "    imageR = cifarTrain.iloc[i,1:1025].values.reshape((height,width))\n",
    "    imageG = cifarTrain.iloc[i,1025:2049].values.reshape((height,width))\n",
    "    imageB = cifarTrain.iloc[i,2049:3073].values.reshape((height,width))\n",
    "    image = np.dstack((imageR, imageG, imageB))\n",
    "    plt.imshow(image)\n",
    "plt.tight_layout()\n",
    "plt.show()"
   ]
  },
  {
   "cell_type": "markdown",
   "metadata": {},
   "source": [
    "<div class='alert alert-info'>\n",
    "Everything is loaded! We can start analyzing our data.\n",
    "</div>"
   ]
  },
  {
   "cell_type": "markdown",
   "metadata": {},
   "source": [
    "# 2. Descriptive statistics"
   ]
  },
  {
   "cell_type": "markdown",
   "metadata": {},
   "source": [
    "### 2.1 Data description"
   ]
  },
  {
   "cell_type": "markdown",
   "metadata": {},
   "source": [
    "<div class='alert alert-info'>\n",
    "The first step is to investigate data. It is a fundamental section, where we will learn about our data. Initially we show and plot really simple statistics: they are useful to introduce us, to understand what we are dealing with.\n",
    "</div>"
   ]
  },
  {
   "cell_type": "markdown",
   "metadata": {},
   "source": [
    "### <div class=\"label label-success\">FASHION-MNIST</div>"
   ]
  },
  {
   "cell_type": "code",
   "execution_count": 9,
   "metadata": {},
   "outputs": [
    {
     "name": "stdout",
     "output_type": "stream",
     "text": [
      "[TRAINSET]\n",
      "Number of rows: 60000\n",
      "Attributes: 784 (without considering the label)\n",
      "\n",
      "[TESTSET]\n",
      "Number of rows: 10000\n",
      "Attributes: 784 (without considering the label)\n",
      "\n",
      "Example:\n"
     ]
    },
    {
     "data": {
      "text/html": [
       "<div>\n",
       "<style scoped>\n",
       "    .dataframe tbody tr th:only-of-type {\n",
       "        vertical-align: middle;\n",
       "    }\n",
       "\n",
       "    .dataframe tbody tr th {\n",
       "        vertical-align: top;\n",
       "    }\n",
       "\n",
       "    .dataframe thead th {\n",
       "        text-align: right;\n",
       "    }\n",
       "</style>\n",
       "<table border=\"1\" class=\"dataframe\">\n",
       "  <thead>\n",
       "    <tr style=\"text-align: right;\">\n",
       "      <th></th>\n",
       "      <th>label</th>\n",
       "      <th>pixel1</th>\n",
       "      <th>pixel2</th>\n",
       "      <th>pixel3</th>\n",
       "      <th>pixel4</th>\n",
       "      <th>pixel5</th>\n",
       "      <th>pixel6</th>\n",
       "      <th>pixel7</th>\n",
       "      <th>pixel8</th>\n",
       "      <th>pixel9</th>\n",
       "      <th>...</th>\n",
       "      <th>pixel775</th>\n",
       "      <th>pixel776</th>\n",
       "      <th>pixel777</th>\n",
       "      <th>pixel778</th>\n",
       "      <th>pixel779</th>\n",
       "      <th>pixel780</th>\n",
       "      <th>pixel781</th>\n",
       "      <th>pixel782</th>\n",
       "      <th>pixel783</th>\n",
       "      <th>pixel784</th>\n",
       "    </tr>\n",
       "  </thead>\n",
       "  <tbody>\n",
       "    <tr>\n",
       "      <th>0</th>\n",
       "      <td>2</td>\n",
       "      <td>0</td>\n",
       "      <td>0</td>\n",
       "      <td>0</td>\n",
       "      <td>0</td>\n",
       "      <td>0</td>\n",
       "      <td>0</td>\n",
       "      <td>0</td>\n",
       "      <td>0</td>\n",
       "      <td>0</td>\n",
       "      <td>...</td>\n",
       "      <td>0</td>\n",
       "      <td>0</td>\n",
       "      <td>0</td>\n",
       "      <td>0</td>\n",
       "      <td>0</td>\n",
       "      <td>0</td>\n",
       "      <td>0</td>\n",
       "      <td>0</td>\n",
       "      <td>0</td>\n",
       "      <td>0</td>\n",
       "    </tr>\n",
       "    <tr>\n",
       "      <th>1</th>\n",
       "      <td>9</td>\n",
       "      <td>0</td>\n",
       "      <td>0</td>\n",
       "      <td>0</td>\n",
       "      <td>0</td>\n",
       "      <td>0</td>\n",
       "      <td>0</td>\n",
       "      <td>0</td>\n",
       "      <td>0</td>\n",
       "      <td>0</td>\n",
       "      <td>...</td>\n",
       "      <td>0</td>\n",
       "      <td>0</td>\n",
       "      <td>0</td>\n",
       "      <td>0</td>\n",
       "      <td>0</td>\n",
       "      <td>0</td>\n",
       "      <td>0</td>\n",
       "      <td>0</td>\n",
       "      <td>0</td>\n",
       "      <td>0</td>\n",
       "    </tr>\n",
       "    <tr>\n",
       "      <th>2</th>\n",
       "      <td>6</td>\n",
       "      <td>0</td>\n",
       "      <td>0</td>\n",
       "      <td>0</td>\n",
       "      <td>0</td>\n",
       "      <td>0</td>\n",
       "      <td>0</td>\n",
       "      <td>0</td>\n",
       "      <td>5</td>\n",
       "      <td>0</td>\n",
       "      <td>...</td>\n",
       "      <td>0</td>\n",
       "      <td>0</td>\n",
       "      <td>0</td>\n",
       "      <td>30</td>\n",
       "      <td>43</td>\n",
       "      <td>0</td>\n",
       "      <td>0</td>\n",
       "      <td>0</td>\n",
       "      <td>0</td>\n",
       "      <td>0</td>\n",
       "    </tr>\n",
       "    <tr>\n",
       "      <th>3</th>\n",
       "      <td>0</td>\n",
       "      <td>0</td>\n",
       "      <td>0</td>\n",
       "      <td>0</td>\n",
       "      <td>1</td>\n",
       "      <td>2</td>\n",
       "      <td>0</td>\n",
       "      <td>0</td>\n",
       "      <td>0</td>\n",
       "      <td>0</td>\n",
       "      <td>...</td>\n",
       "      <td>3</td>\n",
       "      <td>0</td>\n",
       "      <td>0</td>\n",
       "      <td>0</td>\n",
       "      <td>0</td>\n",
       "      <td>1</td>\n",
       "      <td>0</td>\n",
       "      <td>0</td>\n",
       "      <td>0</td>\n",
       "      <td>0</td>\n",
       "    </tr>\n",
       "    <tr>\n",
       "      <th>4</th>\n",
       "      <td>3</td>\n",
       "      <td>0</td>\n",
       "      <td>0</td>\n",
       "      <td>0</td>\n",
       "      <td>0</td>\n",
       "      <td>0</td>\n",
       "      <td>0</td>\n",
       "      <td>0</td>\n",
       "      <td>0</td>\n",
       "      <td>0</td>\n",
       "      <td>...</td>\n",
       "      <td>0</td>\n",
       "      <td>0</td>\n",
       "      <td>0</td>\n",
       "      <td>0</td>\n",
       "      <td>0</td>\n",
       "      <td>0</td>\n",
       "      <td>0</td>\n",
       "      <td>0</td>\n",
       "      <td>0</td>\n",
       "      <td>0</td>\n",
       "    </tr>\n",
       "  </tbody>\n",
       "</table>\n",
       "<p>5 rows × 785 columns</p>\n",
       "</div>"
      ],
      "text/plain": [
       "   label  pixel1  pixel2  pixel3  pixel4  pixel5  pixel6  pixel7  pixel8  \\\n",
       "0      2       0       0       0       0       0       0       0       0   \n",
       "1      9       0       0       0       0       0       0       0       0   \n",
       "2      6       0       0       0       0       0       0       0       5   \n",
       "3      0       0       0       0       1       2       0       0       0   \n",
       "4      3       0       0       0       0       0       0       0       0   \n",
       "\n",
       "   pixel9    ...     pixel775  pixel776  pixel777  pixel778  pixel779  \\\n",
       "0       0    ...            0         0         0         0         0   \n",
       "1       0    ...            0         0         0         0         0   \n",
       "2       0    ...            0         0         0        30        43   \n",
       "3       0    ...            3         0         0         0         0   \n",
       "4       0    ...            0         0         0         0         0   \n",
       "\n",
       "   pixel780  pixel781  pixel782  pixel783  pixel784  \n",
       "0         0         0         0         0         0  \n",
       "1         0         0         0         0         0  \n",
       "2         0         0         0         0         0  \n",
       "3         1         0         0         0         0  \n",
       "4         0         0         0         0         0  \n",
       "\n",
       "[5 rows x 785 columns]"
      ]
     },
     "metadata": {},
     "output_type": "display_data"
    }
   ],
   "source": [
    "# PRINT TO DESCRIBE THE TRAIN AND THE TEST\n",
    "print(\"[TRAINSET]\")\n",
    "print(\"Number of rows:\", mnistTrain.shape[0])\n",
    "print(\"Attributes:\", mnistTrain.drop(columns=['label']).shape[1], \"(without considering the label)\")\n",
    "\n",
    "print(\"\\n[TESTSET]\")\n",
    "print(\"Number of rows:\", mnistTest.shape[0])\n",
    "print(\"Attributes:\", mnistTest.drop(columns=['label']).shape[1], \"(without considering the label)\")\n",
    "\n",
    "print(\"\\nExample:\")\n",
    "display(mnistTrain.head(5))"
   ]
  },
  {
   "cell_type": "markdown",
   "metadata": {},
   "source": [
    "<div class='alert alert-success'>\n",
    "The number of rows is <b>60000</b>, while the number of columns is <b>785</b> (784 attributes + 1 label). But what does they mean?<br>\n",
    "<br>\n",
    "<list>\n",
    "    <li>Each <b>row</b> represents a picture.</li>\n",
    "    <li>Each <b>column</b> represents a pixel.</li>\n",
    "    <li>So, the <b>value</b> of a row <i>\"r\"</i> in a given column <i>\"c\"</i> represents the brightness (from 0 to 255) of a given pixel <i>\"c\"</i> in a given picture <i>\"r\"</i>.</li>\n",
    "</list><br>\n",
    "In the testset we find the same situation but with a smaller row dimension: <b>10000</b>. The number of columns is, of course, the same: <b>785</b> (784 attributes + 1 label).<br>\n",
    "</div>"
   ]
  },
  {
   "cell_type": "markdown",
   "metadata": {},
   "source": [
    "### <div class=\"label label-warning\">CIFAR-10</div>"
   ]
  },
  {
   "cell_type": "code",
   "execution_count": 10,
   "metadata": {},
   "outputs": [
    {
     "name": "stdout",
     "output_type": "stream",
     "text": [
      "[TRAINSET]\n",
      "Number of rows: 50000\n",
      "Attributes: 3072 (without considering the label)\n",
      "\n",
      "[TESTSET]\n",
      "Number of rows: 10000\n",
      "Attributes: 3072 (without considering the label)\n",
      "\n",
      "Example:\n"
     ]
    },
    {
     "data": {
      "text/html": [
       "<div>\n",
       "<style scoped>\n",
       "    .dataframe tbody tr th:only-of-type {\n",
       "        vertical-align: middle;\n",
       "    }\n",
       "\n",
       "    .dataframe tbody tr th {\n",
       "        vertical-align: top;\n",
       "    }\n",
       "\n",
       "    .dataframe thead th {\n",
       "        text-align: right;\n",
       "    }\n",
       "</style>\n",
       "<table border=\"1\" class=\"dataframe\">\n",
       "  <thead>\n",
       "    <tr style=\"text-align: right;\">\n",
       "      <th></th>\n",
       "      <th>label</th>\n",
       "      <th>pixel0_r</th>\n",
       "      <th>pixel1_r</th>\n",
       "      <th>pixel2_r</th>\n",
       "      <th>pixel3_r</th>\n",
       "      <th>pixel4_r</th>\n",
       "      <th>pixel5_r</th>\n",
       "      <th>pixel6_r</th>\n",
       "      <th>pixel7_r</th>\n",
       "      <th>pixel8_r</th>\n",
       "      <th>...</th>\n",
       "      <th>pixel1014_b</th>\n",
       "      <th>pixel1015_b</th>\n",
       "      <th>pixel1016_b</th>\n",
       "      <th>pixel1017_b</th>\n",
       "      <th>pixel1018_b</th>\n",
       "      <th>pixel1019_b</th>\n",
       "      <th>pixel1020_b</th>\n",
       "      <th>pixel1021_b</th>\n",
       "      <th>pixel1022_b</th>\n",
       "      <th>pixel1023_b</th>\n",
       "    </tr>\n",
       "  </thead>\n",
       "  <tbody>\n",
       "    <tr>\n",
       "      <th>0</th>\n",
       "      <td>6</td>\n",
       "      <td>59</td>\n",
       "      <td>43</td>\n",
       "      <td>50</td>\n",
       "      <td>68</td>\n",
       "      <td>98</td>\n",
       "      <td>119</td>\n",
       "      <td>139</td>\n",
       "      <td>145</td>\n",
       "      <td>149</td>\n",
       "      <td>...</td>\n",
       "      <td>59</td>\n",
       "      <td>58</td>\n",
       "      <td>65</td>\n",
       "      <td>59</td>\n",
       "      <td>46</td>\n",
       "      <td>57</td>\n",
       "      <td>104</td>\n",
       "      <td>140</td>\n",
       "      <td>84</td>\n",
       "      <td>72</td>\n",
       "    </tr>\n",
       "    <tr>\n",
       "      <th>1</th>\n",
       "      <td>9</td>\n",
       "      <td>154</td>\n",
       "      <td>126</td>\n",
       "      <td>105</td>\n",
       "      <td>102</td>\n",
       "      <td>125</td>\n",
       "      <td>155</td>\n",
       "      <td>172</td>\n",
       "      <td>180</td>\n",
       "      <td>142</td>\n",
       "      <td>...</td>\n",
       "      <td>22</td>\n",
       "      <td>42</td>\n",
       "      <td>67</td>\n",
       "      <td>101</td>\n",
       "      <td>122</td>\n",
       "      <td>133</td>\n",
       "      <td>136</td>\n",
       "      <td>139</td>\n",
       "      <td>142</td>\n",
       "      <td>144</td>\n",
       "    </tr>\n",
       "    <tr>\n",
       "      <th>2</th>\n",
       "      <td>9</td>\n",
       "      <td>255</td>\n",
       "      <td>253</td>\n",
       "      <td>253</td>\n",
       "      <td>253</td>\n",
       "      <td>253</td>\n",
       "      <td>253</td>\n",
       "      <td>253</td>\n",
       "      <td>253</td>\n",
       "      <td>253</td>\n",
       "      <td>...</td>\n",
       "      <td>78</td>\n",
       "      <td>83</td>\n",
       "      <td>80</td>\n",
       "      <td>69</td>\n",
       "      <td>66</td>\n",
       "      <td>72</td>\n",
       "      <td>79</td>\n",
       "      <td>83</td>\n",
       "      <td>83</td>\n",
       "      <td>84</td>\n",
       "    </tr>\n",
       "    <tr>\n",
       "      <th>3</th>\n",
       "      <td>4</td>\n",
       "      <td>28</td>\n",
       "      <td>37</td>\n",
       "      <td>38</td>\n",
       "      <td>42</td>\n",
       "      <td>44</td>\n",
       "      <td>40</td>\n",
       "      <td>40</td>\n",
       "      <td>24</td>\n",
       "      <td>32</td>\n",
       "      <td>...</td>\n",
       "      <td>53</td>\n",
       "      <td>39</td>\n",
       "      <td>59</td>\n",
       "      <td>42</td>\n",
       "      <td>44</td>\n",
       "      <td>48</td>\n",
       "      <td>38</td>\n",
       "      <td>28</td>\n",
       "      <td>37</td>\n",
       "      <td>46</td>\n",
       "    </tr>\n",
       "    <tr>\n",
       "      <th>4</th>\n",
       "      <td>1</td>\n",
       "      <td>170</td>\n",
       "      <td>168</td>\n",
       "      <td>177</td>\n",
       "      <td>183</td>\n",
       "      <td>181</td>\n",
       "      <td>177</td>\n",
       "      <td>181</td>\n",
       "      <td>184</td>\n",
       "      <td>189</td>\n",
       "      <td>...</td>\n",
       "      <td>92</td>\n",
       "      <td>88</td>\n",
       "      <td>85</td>\n",
       "      <td>82</td>\n",
       "      <td>83</td>\n",
       "      <td>79</td>\n",
       "      <td>78</td>\n",
       "      <td>82</td>\n",
       "      <td>78</td>\n",
       "      <td>80</td>\n",
       "    </tr>\n",
       "  </tbody>\n",
       "</table>\n",
       "<p>5 rows × 3073 columns</p>\n",
       "</div>"
      ],
      "text/plain": [
       "   label  pixel0_r  pixel1_r  pixel2_r  pixel3_r  pixel4_r  pixel5_r  \\\n",
       "0      6        59        43        50        68        98       119   \n",
       "1      9       154       126       105       102       125       155   \n",
       "2      9       255       253       253       253       253       253   \n",
       "3      4        28        37        38        42        44        40   \n",
       "4      1       170       168       177       183       181       177   \n",
       "\n",
       "   pixel6_r  pixel7_r  pixel8_r     ...       pixel1014_b  pixel1015_b  \\\n",
       "0       139       145       149     ...                59           58   \n",
       "1       172       180       142     ...                22           42   \n",
       "2       253       253       253     ...                78           83   \n",
       "3        40        24        32     ...                53           39   \n",
       "4       181       184       189     ...                92           88   \n",
       "\n",
       "   pixel1016_b  pixel1017_b  pixel1018_b  pixel1019_b  pixel1020_b  \\\n",
       "0           65           59           46           57          104   \n",
       "1           67          101          122          133          136   \n",
       "2           80           69           66           72           79   \n",
       "3           59           42           44           48           38   \n",
       "4           85           82           83           79           78   \n",
       "\n",
       "   pixel1021_b  pixel1022_b  pixel1023_b  \n",
       "0          140           84           72  \n",
       "1          139          142          144  \n",
       "2           83           83           84  \n",
       "3           28           37           46  \n",
       "4           82           78           80  \n",
       "\n",
       "[5 rows x 3073 columns]"
      ]
     },
     "metadata": {},
     "output_type": "display_data"
    }
   ],
   "source": [
    "# PRINT TO DESCRIBE THE TRAIN\n",
    "print(\"[TRAINSET]\")\n",
    "print(\"Number of rows:\", cifarTrain.shape[0])\n",
    "print(\"Attributes:\", cifarTrain.drop(columns=['label']).shape[1], \"(without considering the label)\")\n",
    "\n",
    "print(\"\\n[TESTSET]\")\n",
    "print(\"Number of rows:\", cifarTest.shape[0])\n",
    "print(\"Attributes:\", cifarTest.drop(columns=['label']).shape[1], \"(without considering the label)\")\n",
    "\n",
    "print(\"\\nExample:\")\n",
    "display(cifarTrain.head(5))"
   ]
  },
  {
   "cell_type": "markdown",
   "metadata": {},
   "source": [
    "<div class='alert alert-warning'>\n",
    "The number of rows is <b>50000</b>, because we merged 5 files of 10000 rows (images) each. The number of columns is instead <b>3073</b> (3072 attributes + the label): why this number? Because each picture was a 32x32 pixels, with 3 channels (RGB), so each picture has 3072 pixels.<br>\n",
    "<br>\n",
    "The number of rows in the testset is smaller: <b>10000</b>.<br>\n",
    "</div>"
   ]
  },
  {
   "cell_type": "markdown",
   "metadata": {},
   "source": [
    "### 2.2 Data distribution analysis"
   ]
  },
  {
   "cell_type": "markdown",
   "metadata": {},
   "source": [
    "<div class='alert alert-info'>\n",
    "Now is time to analyze the distribution of our data. In this section I'm going to analyze the distribution of <b>both</b> the trainset and the testset, so I'll create the <tt>all</tt> variables.\n",
    "</div>"
   ]
  },
  {
   "cell_type": "code",
   "execution_count": 11,
   "metadata": {},
   "outputs": [],
   "source": [
    "# CREATE THE 'ALL' DATAFRAMES\n",
    "mnistAll = pd.concat((mnistTrain, mnistTest)).reset_index(drop=True)\n",
    "cifarAll = pd.concat((cifarTrain, cifarTest)).reset_index(drop=True)"
   ]
  },
  {
   "cell_type": "markdown",
   "metadata": {},
   "source": [
    "### <div class=\"label label-success\">FASHION-MNIST</div> <div class=\"label label-warning\">CIFAR-10</div>"
   ]
  },
  {
   "cell_type": "code",
   "execution_count": 12,
   "metadata": {},
   "outputs": [],
   "source": [
    "# TAKE DISTRIBUTION\n",
    "mnistDistribution = mnistAll[\"label\"].value_counts()\n",
    "cifarDistribution = cifarAll[\"label\"].value_counts()\n",
    "\n",
    "# TAKE CLASSES AND FREQUENCIES\n",
    "mnistClasses = np.array(mnistDistribution.index)\n",
    "mnistFrequencies = np.array(mnistDistribution.values)\n",
    "\n",
    "cifarClasses = np.array(cifarDistribution.index)\n",
    "cifarFrequencies = np.array(cifarDistribution.values)"
   ]
  },
  {
   "cell_type": "code",
   "execution_count": 13,
   "metadata": {},
   "outputs": [
    {
     "data": {
      "image/png": "[encoded data removed]",
      "text/plain": [
       "<Figure size 1080x360 with 2 Axes>"
      ]
     },
     "metadata": {},
     "output_type": "display_data"
    }
   ],
   "source": [
    "# PLOT THE DISTRIBUTION OF THE TARGET VARIABLE\n",
    "plt.figure(figsize=(15,5))\n",
    "\n",
    "plt.subplot(1,2,1)\n",
    "plt.bar(mnistClasses, mnistFrequencies, align=\"center\", color=\"green\")\n",
    "plt.xticks([i for i in range(np.min(mnistClasses), np.max(mnistClasses)+1)])\n",
    "plt.xlabel(\"Class\")\n",
    "plt.ylabel(\"Count\")\n",
    "plt.title(\"[Fashion-MNIST]\", weight=\"semibold\");\n",
    "\n",
    "plt.subplot(1,2,2)\n",
    "plt.bar(cifarClasses, cifarFrequencies, align=\"center\", color=\"orange\")\n",
    "plt.xticks([i for i in range(np.min(cifarClasses), np.max(cifarClasses)+1)])\n",
    "plt.xlabel(\"Class\")\n",
    "plt.ylabel(\"Count\")\n",
    "plt.title(\"[CIFAR-10]\", weight=\"semibold\");\n",
    "\n",
    "plt.suptitle(\"Distribution of the label (trainset + testset)\", fontsize=16, weight=\"bold\")\n",
    "plt.show()"
   ]
  },
  {
   "cell_type": "markdown",
   "metadata": {},
   "source": [
    "<div class='alert alert-info'>\n",
    "<div class='label label-danger'>QUESTION</div><br>\n",
    "<i><b>Comment on the distribution of class labels and the dimensionality of the input and how these may affect the analysis.</b></i><br>\n",
    "<br>\n",
    "<div class='label label-danger'>ANSWER</div><br>\n",
    "<b>- The dimensionality</b><br>\n",
    "First of all, the dimensionality is very high. As previously said, each column represents a pixel of the image! So, even a very small picture has a lot of features. A big dimensionality like this (784 attributes on the <tt>Fashion-MNIST</tt> and 3072 attributes on the <tt>CIFAR-10</tt>) can represent an issue for the predictive model, generally known as \"curse of dimensionality\" (<a href=\"https://en.wikipedia.org/wiki/Curse_of_dimensionality\">source</a>).<br>\n",
    "Applying a model with a dataset with so many distributions can be problematic, and some strategies of dimensionality reductions can be used in this case. Talking about the number of rows: it can be an advantage to train the model with a lot of data, but of course overfitting issues have to be avoided. In this case we have a relatively big number of rows: the training and test times can be problematic, especially when big matricial computations have to be done to predict the class label.<br>\n",
    "<br>\n",
    "<b>- The distribution</b><br>\n",
    "The distribution is <b>uniform</b>: each class has the same amount of images in the dataset.<br>\n",
    "</div>"
   ]
  },
  {
   "cell_type": "markdown",
   "metadata": {},
   "source": [
    "<div class='alert alert-info'>\n",
    "Before starting the new section, let's define the function to graphically plot the confusion matrix. This function will be useful to show the classifier and the regressor performance in the two datasets.\n",
    "</div>"
   ]
  },
  {
   "cell_type": "code",
   "execution_count": 14,
   "metadata": {},
   "outputs": [],
   "source": [
    "def plotConfusionMatrix(cm, classes, normalize = False, title = \"Confusion matrix\", cmap = plt.cm.Greens):\n",
    "\n",
    "    plt.figure(figsize=(7,7))\n",
    "    plt.imshow(cm, interpolation='nearest', cmap=cmap)\n",
    "    plt.title(title)\n",
    "    tick_marks = np.arange(len(classes))\n",
    "    plt.xticks(tick_marks, classes)\n",
    "    plt.yticks(tick_marks, classes)\n",
    "\n",
    "    if normalize:\n",
    "        cm = cm.astype('float') / cm.sum(axis=1)[:, np.newaxis]\n",
    "\n",
    "    thresh = cm.max() / 2.\n",
    "    for i, j in itertools.product(range(cm.shape[0]), range(cm.shape[1])):\n",
    "        plt.text(j, i, cm[i, j],\n",
    "                 horizontalalignment=\"center\",\n",
    "                 color=\"white\" if cm[i, j] > thresh else \"black\")\n",
    "\n",
    "    plt.tight_layout()\n",
    "    plt.ylabel('True label')\n",
    "    plt.xlabel('Predicted label')\n",
    "    plt.show()"
   ]
  },
  {
   "cell_type": "markdown",
   "metadata": {},
   "source": [
    "<div class='alert alert-info'>\n",
    "Moreover, to facilitate each model's work, we can normalize the values of our datasets (except for the class label) dividing each value by 255. Let's do it:\n",
    "</div>"
   ]
  },
  {
   "cell_type": "code",
   "execution_count": 15,
   "metadata": {},
   "outputs": [],
   "source": [
    "def normalize(dataset):\n",
    "    return dataset.apply(lambda col: col.divide(255) if(col.name != \"label\") else col)\n",
    "\n",
    "# NORMALIZE MNIST\n",
    "mnistTrainNorm = normalize(mnistTrain)\n",
    "mnistTestNorm = normalize(mnistTest)\n",
    "\n",
    "# NORMALIZE CIFAR\n",
    "cifarTrainNorm = normalize(cifarTrain)\n",
    "cifarTestNorm = normalize(cifarTest)"
   ]
  },
  {
   "cell_type": "markdown",
   "metadata": {},
   "source": [
    "<div class='alert alert-info'>\n",
    "Now we're ready to start the classification.\n",
    "</div>"
   ]
  },
  {
   "cell_type": "markdown",
   "metadata": {},
   "source": [
    "# 3. Classification"
   ]
  },
  {
   "cell_type": "markdown",
   "metadata": {},
   "source": [
    "### 3.a Naive Bayes Classifier"
   ]
  },
  {
   "cell_type": "markdown",
   "metadata": {},
   "source": [
    "<div class='alert alert-info'>\n",
    "Naive Bayes Classifier explanation here...\n",
    "</div>"
   ]
  },
  {
   "cell_type": "code",
   "execution_count": 87,
   "metadata": {},
   "outputs": [],
   "source": [
    "class NaiveBayesClassifier:\n",
    "    \n",
    "    # ----- PRIVATE METHODS ------------------------------------------------- #\n",
    "    # MEANS AND VARIANCES FOR THE LIKELIHOOD: P(X|C)\n",
    "    def _computeMeansCov(self, train):\n",
    "        \n",
    "        # Compute means and variances. For example:\n",
    "        #    <means> |  attr0 | attr1 | ...    #  <vars> |  attr0 | attr1 | ...\n",
    "        #    --------------------------        # --------------------------    \n",
    "        #    class0  |   12   |   3   | ...    # class0  |   0.2  |  0.03 | ...\n",
    "        #    class1  |   8    |   0   | ...    # class1  |  0.07  |  0.1  | ...\n",
    "        #      ...   |  ...   |  ...  | ...    #   ...   |  ...   |  ...  | ...\n",
    "        self.means = train.groupby(\"label\").mean()\n",
    "        self.cov = train.groupby(\"label\").var()\n",
    "    \n",
    "    \n",
    "    # PRIORS: P(C)\n",
    "    def _computePriors(self, train):\n",
    "        \n",
    "        # Compute the distribution of the label\n",
    "        frequencies = train[\"label\"].value_counts().to_dict()\n",
    "        \n",
    "        # Set a probability for each class: an array of all P(Ci)\n",
    "        self.priors = np.array([v / train.shape[0] for v in frequencies.values()])\n",
    "    \n",
    "    \n",
    "    # LIKELIHOOD: P(X|C)\n",
    "    def _logLikelihood(self, data, c):\n",
    "        \n",
    "        # Compute the P(X|Ci)\n",
    "        likelihoodC = multivariate_normal.logpdf(data, self.means.loc[c], self.cov.loc[c] + 1e-3)\n",
    "        \n",
    "        # Sum it to the likelihoods accumulator (useful for the quality metric)\n",
    "        self.ls += np.sum(likelihoodC)\n",
    "        \n",
    "        # Use the logarithmic pdf of the Multivariate Gaussian\n",
    "        return likelihoodC\n",
    "    # ----------------------------------------------------------------------- # \n",
    "    \n",
    "    \n",
    "    # ----- PUBLIC METHODS -------------------------------------------------- #\n",
    "    # TRAIN - LIKELIHOOD and PRIOR\n",
    "    def fit(self, train):\n",
    "        \n",
    "        # Classes\n",
    "        self.classes = list(sorted(train[\"label\"].unique()))\n",
    "        \n",
    "        # Compute priors and likelihoods\n",
    "        self._computePriors(train)\n",
    "        self._computeMeansCov(train)\n",
    "        \n",
    "        return self.classes\n",
    "    \n",
    "    \n",
    "    # TEST - POSTERIOR: P(C|X)\n",
    "    def predict(self, test):\n",
    "\n",
    "        # The posterior array will be like:\n",
    "        #     <post> | sample0 | sample1 | ...\n",
    "        #    -----------------------------\n",
    "        #    class0  |   0.1   |  0.4   | ...\n",
    "        #    class1  |   0.18  |  0.35  | ...\n",
    "        #      ...   |   ...   |  ...   | ... \n",
    "        self.ls = 0\n",
    "        self.posteriors = np.array([self._logLikelihood(test, c) + np.log(self.priors[c]) for c in self.classes])\n",
    "        \n",
    "        # Select the class with max probability for each sample\n",
    "        return np.argmax(self.posteriors, axis=0)\n",
    "    \n",
    "    \n",
    "    # VALIDATE PREDICTION\n",
    "    def validate(self, pred, correct):\n",
    "        \n",
    "        # Accuracy, error, confusion matrix\n",
    "        acc = np.mean(pred == correct)\n",
    "        err = np.mean(pred != correct)\n",
    "        cm = confusion_matrix(correct, pred)\n",
    "        \n",
    "        # Return the average number of equal and different classes\n",
    "        return acc, err, cm, self.ls\n",
    "    # ----------------------------------------------------------------------- #"
   ]
  },
  {
   "cell_type": "code",
   "execution_count": 94,
   "metadata": {},
   "outputs": [],
   "source": [
    "# CLASSIFY FUNCTION\n",
    "def classify(train, test, correct, color):\n",
    "    \n",
    "    # NAIVE BAYES CLASSIFIER\n",
    "    nbc = NaiveBayesClassifier()\n",
    "\n",
    "    # TRAIN\n",
    "    startTime = time()\n",
    "    classes = nbc.fit(train)\n",
    "    endTime = time()\n",
    "    print(\"Train time: %.3f seconds\" % (endTime-startTime))\n",
    "\n",
    "    # TEST\n",
    "    startTime = time()\n",
    "    pred = nbc.predict(test)\n",
    "    endTime = time()\n",
    "    print(\"Test time: %.3f seconds\\n\" % (endTime-startTime))\n",
    "\n",
    "    # ACCURACY AND ERROR\n",
    "    accuracy, error, cm, ls = nbc.validate(pred, correct)\n",
    "    print(\"Accuracy: %.2f%%   |   Error: %.2f%%\" % (accuracy * 100, error * 100))\n",
    "    print(\"Likelihoods sum: %d\" % (ls))\n",
    "    plotConfusionMatrix(cm, classes, title=\"[Naive Bayes Classification] Confusion Matrix\", cmap = color)"
   ]
  },
  {
   "cell_type": "markdown",
   "metadata": {},
   "source": [
    "### <div class=\"label label-success\">FASHION-MNIST</div>"
   ]
  },
  {
   "cell_type": "markdown",
   "metadata": {},
   "source": [
    "<div class='alert alert-success'>\n",
    "Let's start the classification for the <tt>Fashion-MNIST</tt> dataset:\n",
    "</div>"
   ]
  },
  {
   "cell_type": "code",
   "execution_count": 92,
   "metadata": {},
   "outputs": [
    {
     "name": "stdout",
     "output_type": "stream",
     "text": [
      "Train time: 1.118 seconds\n",
      "Test time: 3.794 seconds\n",
      "Accuracy: 66.95%   |   Error: 33.05%\n",
      "Likelihoods sum: -372669170\n"
     ]
    },
    {
     "data": {
      "image/png": "[encoded data removed]",
      "text/plain": [
       "<Figure size 504x504 with 1 Axes>"
      ]
     },
     "metadata": {},
     "output_type": "display_data"
    }
   ],
   "source": [
    "# CLASSIFY\n",
    "classify(train = mnistTrainNorm,\n",
    "         test = mnistTestNorm.drop(columns=['label']),\n",
    "         correct = mnistTestNorm['label'],\n",
    "         color = \"Greens\")"
   ]
  },
  {
   "cell_type": "markdown",
   "metadata": {},
   "source": [
    "### <div class=\"label label-warning\">CIFAR-10</div>"
   ]
  },
  {
   "cell_type": "markdown",
   "metadata": {},
   "source": [
    "<div class='alert alert-warning'>\n",
    "Now it's time for the <tt>CIFAR-10</tt> classification:\n",
    "</div>"
   ]
  },
  {
   "cell_type": "code",
   "execution_count": 93,
   "metadata": {},
   "outputs": [
    {
     "name": "stdout",
     "output_type": "stream",
     "text": [
      "Train time: 11.351 seconds\n",
      "Test time: 87.760 seconds\n",
      "Accuracy: 29.59%   |   Error: 70.41%\n",
      "Likelihoods sum: -20646689\n"
     ]
    },
    {
     "data": {
      "image/png": "[encoded data removed]",
      "text/plain": [
       "<Figure size 504x504 with 1 Axes>"
      ]
     },
     "metadata": {},
     "output_type": "display_data"
    }
   ],
   "source": [
    "# CLASSIFY\n",
    "classify(train = cifarTrainNorm,\n",
    "         test = cifarTestNorm.drop(columns=['label']),\n",
    "         correct = cifarTestNorm['label'],\n",
    "         color = \"Oranges\")"
   ]
  },
  {
   "cell_type": "markdown",
   "metadata": {},
   "source": [
    "# 4. Linear Regression"
   ]
  },
  {
   "cell_type": "markdown",
   "metadata": {},
   "source": [
    "<div class='alert alert-info'>\n",
    "Bayesian Linear Regression explanation here...\n",
    "</div>"
   ]
  },
  {
   "cell_type": "code",
   "execution_count": 95,
   "metadata": {},
   "outputs": [],
   "source": [
    "class BayesianLinearRegression:\n",
    "    \n",
    "    # ----- PRIVATE METHODS ------------------------------------------------- #\n",
    "    # CREATE THE MATRIX FOR THE MATRICIAL-FORM REGRESSION\n",
    "    # -> The shape will be:\n",
    "    #    1   x1^1   x1^2   ...\n",
    "    #    1   x2^1   x2^2   ...\n",
    "    #    1   x3^2   x3^2   ...\n",
    "    #   ...   ...    ...   ...\n",
    "    def _matricize(self, x, k):\n",
    "        \n",
    "        # ALLOCATE MATRIX\n",
    "        X = np.ones(shape=(x.shape[0], x.shape[1]), dtype=int)\n",
    "        \n",
    "        # STACK COLUMNS\n",
    "        for i in range(k):\n",
    "            X = np.hstack((X, np.power(x, i+1))) \n",
    "            \n",
    "        return X\n",
    "    \n",
    "    \n",
    "    # COMPUTE THE WEIGHTS ARRAY\n",
    "    def _weights(self, X, t):\n",
    "        \n",
    "        noise = np.diag(np.random.random(X.shape[1]))\n",
    "        \n",
    "        return inv(X.T.dot(X) + noise).dot(X.T).dot(t)\n",
    "    \n",
    "    \n",
    "    # RETURN THE VARIANCE\n",
    "    def _variance(self, X, w, t):\n",
    "        \n",
    "        return (t - X.dot(w.T)).T.dot(t - X.dot(w.T)) / X.shape[0]\n",
    "    \n",
    "    \n",
    "    # RETURN THE PREDICTED t\n",
    "    def _target(self, X_new, w):\n",
    "        \n",
    "        return X_new.dot(w.T)\n",
    "    \n",
    "    \n",
    "    # RETURN THE PREDICTIVE VARIANCE\n",
    "    def _predictiveVar(self, X_new, X, var):\n",
    "        \n",
    "        noise = np.diag(np.random.random(X.shape[1]))\n",
    "        \n",
    "        # (\"+\" instead of \"*\" for numerical reasons)\n",
    "        return var + np.diag(X_new.dot(inv(X.T.dot(X) + noise)).dot(X_new.T))\n",
    "    # ----------------------------------------------------------------------- #\n",
    "    \n",
    "    \n",
    "    # ----- PUBLIC METHODS -------------------------------------------------- #\n",
    "    # TRAIN\n",
    "    def fit(self, train, k):\n",
    "        \n",
    "        # Split train in x and t\n",
    "        self.t = train[\"label\"]\n",
    "        self.x = train.drop(columns=[\"label\"])\n",
    "        \n",
    "        # Compute X, w and t\n",
    "        self.X = self._matricize(self.x, k)\n",
    "        self.w = self._weights(self.X, self.t)\n",
    "        self.var = self._variance(self.X, self.w, self.t)\n",
    "        \n",
    "        return sorted(self.t.unique())\n",
    "    \n",
    "    \n",
    "    # TEST\n",
    "    def predict(self, test, k):\n",
    "        \n",
    "        # Compute the matrix for the test set\n",
    "        X_new = self._matricize(test, k)\n",
    "        \n",
    "        # Predict the new target for the test set\n",
    "        t_new_raw = self._target(X_new, self.w)\n",
    "        \n",
    "        # Discretize predictions\n",
    "        rounder = np.vectorize(lambda label: round(label))\n",
    "        highLimiter = np.vectorize(lambda label: 9 if label > 9 else label)\n",
    "        lowLimiter = np.vectorize(lambda label: 0 if label < 0 else label)\n",
    "        t_new = np.array(lowLimiter(highLimiter(rounder(t_new_raw))), dtype=int)\n",
    "        \n",
    "        # Compute the predictive variance\n",
    "        var_new = self._predictiveVar(X_new, self.X, self.var)\n",
    "        \n",
    "        return t_new, var_new, t_new_raw\n",
    "        \n",
    "    \n",
    "    # VALIDATION\n",
    "    def validate(self, pred, correct, raw):\n",
    "        \n",
    "        # Accuracy, error, confusion matrix\n",
    "        acc = np.mean(pred == correct)\n",
    "        err = np.mean(pred != correct)\n",
    "        cm = confusion_matrix(correct, pred)\n",
    "        mse = mean_squared_error(correct, raw)\n",
    "        \n",
    "        # Return the average number of equal and different classes\n",
    "        return acc, err, cm, mse\n",
    "    # ----------------------------------------------------------------------- #"
   ]
  },
  {
   "cell_type": "code",
   "execution_count": 96,
   "metadata": {},
   "outputs": [],
   "source": [
    "def regress(train, test, correct, k, color):\n",
    "    \n",
    "    # BAYESIAN LINEAR REGRESSION\n",
    "    blr = BayesianLinearRegression()\n",
    "\n",
    "    # TRAIN\n",
    "    startTime = time()\n",
    "    classes = blr.fit(train, k)\n",
    "    endTime = time()\n",
    "    print(\"Train time: %.3f seconds\" % (endTime-startTime))\n",
    "\n",
    "    # TEST\n",
    "    startTime = time()\n",
    "    pred, var, raw = blr.predict(test, k)\n",
    "    endTime = time()\n",
    "    print(\"Test time: %.3f seconds\\n\" % (endTime-startTime))\n",
    "\n",
    "    # ACCURACY\n",
    "    accuracy, error, cm, mse = blr.validate(pred, correct, raw)\n",
    "    print(\"[RAW PREDICTIONS] Mean Squared Error (MSE): %.2f\" % (mse))\n",
    "    print(\"[DISCRETE PREDICTIONS] Accuracy: %.2f%%   |   Error: %.2f%%\" % (accuracy * 100, error * 100))\n",
    "    plotConfusionMatrix(cm, classes, title=\"[Bayesian Linear Regression] Confusion Matrix\", cmap = color)"
   ]
  },
  {
   "cell_type": "markdown",
   "metadata": {},
   "source": [
    "### <div class=\"label label-success\">FASHION-MNIST</div>"
   ]
  },
  {
   "cell_type": "code",
   "execution_count": 97,
   "metadata": {},
   "outputs": [
    {
     "name": "stdout",
     "output_type": "stream",
     "text": [
      "Train time: 10.574 seconds\n",
      "Test time: 9.395 seconds\n",
      "\n",
      "[RAW PREDICTIONS] Mean Squared Error (MSE): 1.96\n",
      "[DISCRETE PREDICTIONS] Accuracy: 39.19%   |   Error: 60.81%\n"
     ]
    },
    {
     "data": {
      "image/png": "[encoded data removed]",
      "text/plain": [
       "<Figure size 504x504 with 1 Axes>"
      ]
     },
     "metadata": {},
     "output_type": "display_data"
    }
   ],
   "source": [
    "# REGRESS\n",
    "regress(train = mnistTrainNorm,\n",
    "        test = mnistTestNorm.drop(columns=['label']),\n",
    "        correct = mnistTestNorm['label'],\n",
    "        k = 1,\n",
    "        color = \"Greens\")"
   ]
  },
  {
   "cell_type": "markdown",
   "metadata": {},
   "source": [
    "### <div class=\"label label-warning\">CIFAR-10</div>"
   ]
  },
  {
   "cell_type": "code",
   "execution_count": 23,
   "metadata": {},
   "outputs": [
    {
     "name": "stdout",
     "output_type": "stream",
     "text": [
      "Train time: 142.894 seconds\n",
      "Test time: 87.511 seconds\n",
      "Accuracy: 11.36%   |   Error: 88.64%\n"
     ]
    },
    {
     "data": {
      "image/png": "[encoded data removed]",
      "text/plain": [
       "<Figure size 504x504 with 1 Axes>"
      ]
     },
     "metadata": {},
     "output_type": "display_data"
    }
   ],
   "source": [
    "# REGRESS\n",
    "regress(train = cifarTrainNorm,\n",
    "        test = cifarTestNorm.drop(columns=['label']),\n",
    "        correct = cifarTestNorm['label'],\n",
    "        k = 1,\n",
    "        color = \"Oranges\")"
   ]
  },
  {
   "cell_type": "code",
   "execution_count": null,
   "metadata": {},
   "outputs": [],
   "source": []
  }
 ],
 "metadata": {
  "kernelspec": {
   "display_name": "Python 3",
   "language": "python",
   "name": "python3"
  },
  "language_info": {
   "codemirror_mode": {
    "name": "ipython",
    "version": 3
   },
   "file_extension": ".py",
   "mimetype": "text/x-python",
   "name": "python",
   "nbconvert_exporter": "python",
   "pygments_lexer": "ipython3",
   "version": "3.6.5"
  }
 },
 "nbformat": 4,
 "nbformat_minor": 2
}
