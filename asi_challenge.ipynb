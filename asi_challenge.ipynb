{
 "cells": [
  {
   "cell_type": "markdown",
   "metadata": {},
   "source": [
    "### <div class=\"label label-info\">CLAUDIO SCALZO</div>\n",
    "# ASI Challenge Exercise\n",
    "### Naive Bayes Classification and Bayesian Linear Regression on the <tt>Fashion-MNIST</tt> and <tt>CIFAR-10</tt> datasets"
   ]
  },
  {
   "cell_type": "markdown",
   "metadata": {},
   "source": [
    "<div class='alert alert-info'>\n",
    "<div class='label label-info'>DESCRIPTION</div>\n",
    "<br>\n",
    "This notebook presents the \"from-scratch\" implementations of the <b>Naive Bayes Classification</b> and the <b>Bayesian Linear Regression</b>, applied to the <a href=\"https://www.kaggle.com/zalando-research/fashionmnist/data\"><tt>Fashion-MNIST</tt></a> and <a href=\"https://www.cs.toronto.edu/~kriz/cifar.html\"><tt>CIFAR-10</tt></a> datasets.<br>\n",
    "<br>\n",
    "<div class='label label-info'>INSTRUCTIONS TO RUN THE NOTEBOOK</div>\n",
    "<br>\n",
    "To be able to run the notebook the only thing to ensure is that the datasets are in the correct directories. The following structure is the correct one:\n",
    "<code>\n",
    "- asi_challenge_claudio_scalzo.ipynb\n",
    "- datasets/\n",
    "    - Fashion-MNIST/\n",
    "        - fashion-mnist_train.csv\n",
    "        - fashion-mnist_test.csv\n",
    "    - CIFAR-10/\n",
    "        - data_batch_1\n",
    "        - data_batch_2\n",
    "        - data_batch_3\n",
    "        - data_batch_4\n",
    "        - data_batch_5\n",
    "        - test_batch\n",
    "</code>\n",
    "<br>\n",
    "<div class='label label-info'>COLORS</div>\n",
    "<br>\n",
    "For the sake of readability, the notebook will follow a color convention:\n",
    "<br>\n",
    "<ul>\n",
    "    <li>All the cells related to the <tt>Fashion-MNIST</tt> dataset will be in green and labeled with: <div class=\"label label-success\">FASHION-MNIST</div></li>\n",
    "    <li>All the cells related to the <tt>CIFAR-10</tt> dataset will be in yellow and labeled with: <div class=\"label label-warning\">CIFAR-10</div></li>\n",
    "    <li>All the blue cells are generic comments and the answers to the exercise questions are marked with: <div class=\"label label-danger\">ANSWER</div> or <div class=\"label label-info\">TASK</div></li>\n",
    "</ul>\n",
    "<br>\n",
    "<div class='label label-info'>SECTIONS</div>\n",
    "<br>\n",
    "The sections numbering will follow exactly the one provided in the requirements PDF.\n",
    "</div>"
   ]
  },
  {
   "cell_type": "code",
   "execution_count": 1,
   "metadata": {},
   "outputs": [],
   "source": [
    "### LIBRARIES IMPORT\n",
    "\n",
    "# Data structures\n",
    "import numpy as np\n",
    "import pandas as pd\n",
    "from numpy.linalg import inv, solve\n",
    "\n",
    "# Plot\n",
    "import seaborn as sns\n",
    "import matplotlib.pyplot as plt\n",
    "\n",
    "# Utilities\n",
    "import math as math\n",
    "from time import time, sleep\n",
    "import pickle\n",
    "import itertools\n",
    "\n",
    "# SciPy, scikit-learn\n",
    "from scipy.stats import skew, probplot, multivariate_normal\n",
    "from sklearn.metrics import explained_variance_score, mean_squared_error, confusion_matrix"
   ]
  },
  {
   "cell_type": "markdown",
   "metadata": {},
   "source": [
    "# 1. Datasets loading"
   ]
  },
  {
   "cell_type": "markdown",
   "metadata": {},
   "source": [
    "<div class='alert alert-info'>\n",
    "<div class='label label-info'>TASK</div><br>\n",
    "<b><i>1. Download the <tt>Fashion-MNIST</tt> and <tt>CIFAR-10</tt> datasets and import them.<br></i></b>\n",
    "<br>\n",
    "The first step consists in the datasets import. This process will be split in two parts, one for the <tt>Fashion-MNIST</tt> dataset and another one for the <tt>CIFAR-10</tt> dataset. While in the first case it will be very easy (being the dataset saved in <b>csv</b> files), in the seconds case the process will be longer, because the CIFAR datasets are saved in <b>binary</b> files.\n",
    "</div>"
   ]
  },
  {
   "cell_type": "markdown",
   "metadata": {},
   "source": [
    "### <div class=\"label label-success\">FASHION-MNIST</div>"
   ]
  },
  {
   "cell_type": "markdown",
   "metadata": {},
   "source": [
    "<div class='alert alert-success'>\n",
    "Let's define the datasets location and load them in two Pandas DataFrame: <tt>mnistTrain</tt> and <tt>mnistTest</tt>.\n",
    "</div>"
   ]
  },
  {
   "cell_type": "code",
   "execution_count": 2,
   "metadata": {},
   "outputs": [],
   "source": [
    "# DIRECTORY AND CONSTANTS DEFINITION\n",
    "mnistPath = \"./datasets/Fashion-MNIST/\"\n",
    "height = 28\n",
    "width = 28\n",
    "\n",
    "# FILEPATHS DEFINITION\n",
    "mnistTrainFile = mnistPath + \"fashion-mnist_train.csv\"\n",
    "mnistTestFile = mnistPath + \"fashion-mnist_test.csv\"\n",
    "\n",
    "# LOAD THE MNIST AND CIFAR TRAINSET AND DATASET\n",
    "mnistTrain = pd.read_csv(mnistTrainFile)\n",
    "mnistTest = pd.read_csv(mnistTestFile)"
   ]
  },
  {
   "cell_type": "markdown",
   "metadata": {},
   "source": [
    "<div class='alert alert-success'>\n",
    "Now we can show some example of the loaded data:\n",
    "</div>"
   ]
  },
  {
   "cell_type": "code",
   "execution_count": 3,
   "metadata": {},
   "outputs": [
    {
     "data": {
      "image/png": "[encoded data removed]",
      "text/plain": [
       "<Figure size 1080x720 with 6 Axes>"
      ]
     },
     "metadata": {},
     "output_type": "display_data"
    }
   ],
   "source": [
    "# SHOW SOME SAMPLES\n",
    "plt.figure(figsize=(15,10))\n",
    "for i in range(6):\n",
    "    plt.subplot(1,6,i+1)\n",
    "    image = mnistTrain.drop(columns=[\"label\"]).loc[i].values.reshape((height, width))\n",
    "    plt.imshow(image, cmap=\"gray\")\n",
    "plt.tight_layout()\n",
    "plt.show()"
   ]
  },
  {
   "cell_type": "markdown",
   "metadata": {},
   "source": [
    "### <div class=\"label label-warning\">CIFAR-10</div>"
   ]
  },
  {
   "cell_type": "markdown",
   "metadata": {},
   "source": [
    "<div class='alert alert-warning'>\n",
    "First of all, we have to declare the path of the <tt>CIFAR-10</tt> datasets and some useful values:\n",
    "</div>"
   ]
  },
  {
   "cell_type": "code",
   "execution_count": 4,
   "metadata": {},
   "outputs": [],
   "source": [
    "# DIRECTORY AND CONSTANTS DEFINITION\n",
    "cifarPath = \"./datasets/CIFAR-10/\"\n",
    "trainfiles = 5\n",
    "height = 32\n",
    "width = 32\n",
    "channels = 3\n",
    "pixels = height * width * channels\n",
    "chpix = height * width"
   ]
  },
  {
   "cell_type": "markdown",
   "metadata": {},
   "source": [
    "<div class='alert alert-warning'>\n",
    "Now, let's define a function to load a single binary file which contains a certain number of images:\n",
    "</div>"
   ]
  },
  {
   "cell_type": "code",
   "execution_count": 5,
   "metadata": {},
   "outputs": [],
   "source": [
    "# FUNCTION TO LOAD A SINGLE TRAINFILE\n",
    "def loadImages(filename):\n",
    "    \n",
    "    # Load binary file\n",
    "    file = open(filename, \"rb\")\n",
    "    \n",
    "    # Unpickle\n",
    "    data = pickle.load(file, encoding=\"bytes\")\n",
    "    \n",
    "    # Get raw images and raw classes\n",
    "    rawImages = data[b'data']\n",
    "    rawClasses = data[b'labels']\n",
    "    \n",
    "    return np.array(rawImages, dtype=int), np.array(rawClasses, dtype=int)"
   ]
  },
  {
   "cell_type": "markdown",
   "metadata": {},
   "source": [
    "<div class='alert alert-warning'>\n",
    "Now it's time to use the previous function to load all the five <b>trainsets</b> in our directory: they will be merged in a unique Pandas DataFrame named <tt>cifarTrain</tt>.\n",
    "</div>"
   ]
  },
  {
   "cell_type": "code",
   "execution_count": 6,
   "metadata": {},
   "outputs": [],
   "source": [
    "# ALLOCATE AN EMPTY ARRAY (width of number of pixels + one for the class label)\n",
    "images = np.empty(shape=(0, pixels + 1), dtype=int)\n",
    "\n",
    "# LOAD ALL THE TRAINFILES\n",
    "for i in range(trainfiles):\n",
    "    \n",
    "    # Load the images and classes for the \"i\"th trainfile\n",
    "    newImages, newClasses = loadImages(filename = cifarPath + \"data_batch_\" + str(i + 1))\n",
    "    \n",
    "    # Create the new batch (concatenating images and classes)\n",
    "    newBatch = np.concatenate((np.asmatrix(newClasses).T, newImages), axis=1)\n",
    "    \n",
    "    # Concatenate the new batch with the previous ones\n",
    "    images = np.concatenate((images, newBatch), axis=0)\n",
    "\n",
    "# CREATE THE TRAIN DATAFRAME\n",
    "attributes = [(\"pixel\" + str(i) + \"_\" + str(c)) for c in [\"r\", \"g\", \"b\"] for i in range(height * width)]\n",
    "cifarTrain = pd.DataFrame(images, columns = [\"label\"] + attributes)"
   ]
  },
  {
   "cell_type": "markdown",
   "metadata": {},
   "source": [
    "<div class='alert alert-warning'>\n",
    "The <tt>cifarTrain</tt> has been imported, now let's do the same for the file containing the <b>testset</b>: also in this case, it will be saved in a dataframe, <tt>cifarTest</tt>.\n",
    "</div>"
   ]
  },
  {
   "cell_type": "code",
   "execution_count": 7,
   "metadata": {},
   "outputs": [],
   "source": [
    "# LOAD THE IMAGES AND CLASSES\n",
    "newImages, newClasses = loadImages(filename = cifarPath + \"test_batch\")\n",
    "\n",
    "# CREATE THE IMAGES ARRAY (concatenating images and classes)\n",
    "images = np.concatenate((np.asmatrix(newClasses).T, newImages), axis=1)\n",
    "\n",
    "# CREATE THE TEST DATAFRAME\n",
    "attributes = [(\"pixel\" + str(i) + \"_\" + str(c)) for i in range(height * width) for c in [\"r\", \"g\", \"b\"]]\n",
    "cifarTest = pd.DataFrame(images, columns = [\"label\"] + attributes)"
   ]
  },
  {
   "cell_type": "markdown",
   "metadata": {},
   "source": [
    "<div class='alert alert-warning'>\n",
    "Now we can show some example of the loaded data:\n",
    "</div>"
   ]
  },
  {
   "cell_type": "code",
   "execution_count": 8,
   "metadata": {},
   "outputs": [
    {
     "data": {
      "image/png": "[encoded data removed]",
      "text/plain": [
       "<Figure size 1080x720 with 6 Axes>"
      ]
     },
     "metadata": {},
     "output_type": "display_data"
    }
   ],
   "source": [
    "# SHOW SOME SAMPLES\n",
    "plt.figure(figsize=(15,10))\n",
    "for i in range(0,6):\n",
    "    plt.subplot(1,6,i+1)\n",
    "    imageR = cifarTrain.iloc[i, 1 : chpix+1].values.reshape((height,width))\n",
    "    imageG = cifarTrain.iloc[i, chpix+1 : 2*chpix+1].values.reshape((height,width))\n",
    "    imageB = cifarTrain.iloc[i, 2*chpix+1 : 3*chpix+1].values.reshape((height,width))\n",
    "    image = np.dstack((imageR, imageG, imageB))\n",
    "    plt.imshow(image)\n",
    "plt.tight_layout()\n",
    "plt.show()"
   ]
  },
  {
   "cell_type": "markdown",
   "metadata": {},
   "source": [
    "<div class='alert alert-info'>\n",
    "Everything is loaded! We can start analyzing our data.\n",
    "</div>"
   ]
  },
  {
   "cell_type": "markdown",
   "metadata": {},
   "source": [
    "# 2. Descriptive statistics"
   ]
  },
  {
   "cell_type": "markdown",
   "metadata": {},
   "source": [
    "### 2.1 Data description"
   ]
  },
  {
   "cell_type": "markdown",
   "metadata": {},
   "source": [
    "<div class='alert alert-info'>\n",
    "The first step is to investigate data. It is a fundamental section, where we will learn about our data. Initially we show and plot really simple statistics: they are useful to introduce us, to understand what we are dealing with.\n",
    "</div>"
   ]
  },
  {
   "cell_type": "markdown",
   "metadata": {},
   "source": [
    "### <div class=\"label label-success\">FASHION-MNIST</div>"
   ]
  },
  {
   "cell_type": "code",
   "execution_count": 9,
   "metadata": {},
   "outputs": [
    {
     "name": "stdout",
     "output_type": "stream",
     "text": [
      "[TRAINSET]\n",
      "Number of rows: 60000\n",
      "Attributes: 784 (without considering the label)\n",
      "\n",
      "[TESTSET]\n",
      "Number of rows: 10000\n",
      "Attributes: 784 (without considering the label)\n",
      "\n",
      "Example:\n"
     ]
    },
    {
     "data": {
      "text/html": [
       "<div>\n",
       "<style scoped>\n",
       "    .dataframe tbody tr th:only-of-type {\n",
       "        vertical-align: middle;\n",
       "    }\n",
       "\n",
       "    .dataframe tbody tr th {\n",
       "        vertical-align: top;\n",
       "    }\n",
       "\n",
       "    .dataframe thead th {\n",
       "        text-align: right;\n",
       "    }\n",
       "</style>\n",
       "<table border=\"1\" class=\"dataframe\">\n",
       "  <thead>\n",
       "    <tr style=\"text-align: right;\">\n",
       "      <th></th>\n",
       "      <th>label</th>\n",
       "      <th>pixel1</th>\n",
       "      <th>pixel2</th>\n",
       "      <th>pixel3</th>\n",
       "      <th>pixel4</th>\n",
       "      <th>pixel5</th>\n",
       "      <th>pixel6</th>\n",
       "      <th>pixel7</th>\n",
       "      <th>pixel8</th>\n",
       "      <th>pixel9</th>\n",
       "      <th>...</th>\n",
       "      <th>pixel775</th>\n",
       "      <th>pixel776</th>\n",
       "      <th>pixel777</th>\n",
       "      <th>pixel778</th>\n",
       "      <th>pixel779</th>\n",
       "      <th>pixel780</th>\n",
       "      <th>pixel781</th>\n",
       "      <th>pixel782</th>\n",
       "      <th>pixel783</th>\n",
       "      <th>pixel784</th>\n",
       "    </tr>\n",
       "  </thead>\n",
       "  <tbody>\n",
       "    <tr>\n",
       "      <th>0</th>\n",
       "      <td>2</td>\n",
       "      <td>0</td>\n",
       "      <td>0</td>\n",
       "      <td>0</td>\n",
       "      <td>0</td>\n",
       "      <td>0</td>\n",
       "      <td>0</td>\n",
       "      <td>0</td>\n",
       "      <td>0</td>\n",
       "      <td>0</td>\n",
       "      <td>...</td>\n",
       "      <td>0</td>\n",
       "      <td>0</td>\n",
       "      <td>0</td>\n",
       "      <td>0</td>\n",
       "      <td>0</td>\n",
       "      <td>0</td>\n",
       "      <td>0</td>\n",
       "      <td>0</td>\n",
       "      <td>0</td>\n",
       "      <td>0</td>\n",
       "    </tr>\n",
       "    <tr>\n",
       "      <th>1</th>\n",
       "      <td>9</td>\n",
       "      <td>0</td>\n",
       "      <td>0</td>\n",
       "      <td>0</td>\n",
       "      <td>0</td>\n",
       "      <td>0</td>\n",
       "      <td>0</td>\n",
       "      <td>0</td>\n",
       "      <td>0</td>\n",
       "      <td>0</td>\n",
       "      <td>...</td>\n",
       "      <td>0</td>\n",
       "      <td>0</td>\n",
       "      <td>0</td>\n",
       "      <td>0</td>\n",
       "      <td>0</td>\n",
       "      <td>0</td>\n",
       "      <td>0</td>\n",
       "      <td>0</td>\n",
       "      <td>0</td>\n",
       "      <td>0</td>\n",
       "    </tr>\n",
       "    <tr>\n",
       "      <th>2</th>\n",
       "      <td>6</td>\n",
       "      <td>0</td>\n",
       "      <td>0</td>\n",
       "      <td>0</td>\n",
       "      <td>0</td>\n",
       "      <td>0</td>\n",
       "      <td>0</td>\n",
       "      <td>0</td>\n",
       "      <td>5</td>\n",
       "      <td>0</td>\n",
       "      <td>...</td>\n",
       "      <td>0</td>\n",
       "      <td>0</td>\n",
       "      <td>0</td>\n",
       "      <td>30</td>\n",
       "      <td>43</td>\n",
       "      <td>0</td>\n",
       "      <td>0</td>\n",
       "      <td>0</td>\n",
       "      <td>0</td>\n",
       "      <td>0</td>\n",
       "    </tr>\n",
       "    <tr>\n",
       "      <th>3</th>\n",
       "      <td>0</td>\n",
       "      <td>0</td>\n",
       "      <td>0</td>\n",
       "      <td>0</td>\n",
       "      <td>1</td>\n",
       "      <td>2</td>\n",
       "      <td>0</td>\n",
       "      <td>0</td>\n",
       "      <td>0</td>\n",
       "      <td>0</td>\n",
       "      <td>...</td>\n",
       "      <td>3</td>\n",
       "      <td>0</td>\n",
       "      <td>0</td>\n",
       "      <td>0</td>\n",
       "      <td>0</td>\n",
       "      <td>1</td>\n",
       "      <td>0</td>\n",
       "      <td>0</td>\n",
       "      <td>0</td>\n",
       "      <td>0</td>\n",
       "    </tr>\n",
       "    <tr>\n",
       "      <th>4</th>\n",
       "      <td>3</td>\n",
       "      <td>0</td>\n",
       "      <td>0</td>\n",
       "      <td>0</td>\n",
       "      <td>0</td>\n",
       "      <td>0</td>\n",
       "      <td>0</td>\n",
       "      <td>0</td>\n",
       "      <td>0</td>\n",
       "      <td>0</td>\n",
       "      <td>...</td>\n",
       "      <td>0</td>\n",
       "      <td>0</td>\n",
       "      <td>0</td>\n",
       "      <td>0</td>\n",
       "      <td>0</td>\n",
       "      <td>0</td>\n",
       "      <td>0</td>\n",
       "      <td>0</td>\n",
       "      <td>0</td>\n",
       "      <td>0</td>\n",
       "    </tr>\n",
       "  </tbody>\n",
       "</table>\n",
       "<p>5 rows × 785 columns</p>\n",
       "</div>"
      ],
      "text/plain": [
       "   label  pixel1  pixel2  pixel3  pixel4  pixel5  pixel6  pixel7  pixel8  \\\n",
       "0      2       0       0       0       0       0       0       0       0   \n",
       "1      9       0       0       0       0       0       0       0       0   \n",
       "2      6       0       0       0       0       0       0       0       5   \n",
       "3      0       0       0       0       1       2       0       0       0   \n",
       "4      3       0       0       0       0       0       0       0       0   \n",
       "\n",
       "   pixel9    ...     pixel775  pixel776  pixel777  pixel778  pixel779  \\\n",
       "0       0    ...            0         0         0         0         0   \n",
       "1       0    ...            0         0         0         0         0   \n",
       "2       0    ...            0         0         0        30        43   \n",
       "3       0    ...            3         0         0         0         0   \n",
       "4       0    ...            0         0         0         0         0   \n",
       "\n",
       "   pixel780  pixel781  pixel782  pixel783  pixel784  \n",
       "0         0         0         0         0         0  \n",
       "1         0         0         0         0         0  \n",
       "2         0         0         0         0         0  \n",
       "3         1         0         0         0         0  \n",
       "4         0         0         0         0         0  \n",
       "\n",
       "[5 rows x 785 columns]"
      ]
     },
     "metadata": {},
     "output_type": "display_data"
    }
   ],
   "source": [
    "# PRINT TO DESCRIBE THE TRAIN AND THE TEST\n",
    "print(\"[TRAINSET]\")\n",
    "print(\"Number of rows:\", mnistTrain.shape[0])\n",
    "print(\"Attributes:\", mnistTrain.drop(columns=['label']).shape[1], \"(without considering the label)\")\n",
    "\n",
    "print(\"\\n[TESTSET]\")\n",
    "print(\"Number of rows:\", mnistTest.shape[0])\n",
    "print(\"Attributes:\", mnistTest.drop(columns=['label']).shape[1], \"(without considering the label)\")\n",
    "\n",
    "print(\"\\nExample:\")\n",
    "display(mnistTrain.head(5))"
   ]
  },
  {
   "cell_type": "markdown",
   "metadata": {},
   "source": [
    "<div class='alert alert-success'>\n",
    "The number of rows is <b>60000</b>, while the number of columns is <b>785</b> (784 attributes + 1 label). But what does they mean?<br>\n",
    "<br>\n",
    "<list>\n",
    "    <li>Each <b>row</b> represents a picture.</li>\n",
    "    <li>Each <b>column</b> represents a pixel.</li>\n",
    "    <li>So, the <b>value</b> of a row <i>\"r\"</i> in a given column <i>\"c\"</i> represents the brightness (from 0 to 255) of a given pixel <i>\"c\"</i> in a given picture <i>\"r\"</i>.</li>\n",
    "</list><br>\n",
    "In the testset we find the same situation but with a smaller row dimension: <b>10000</b>. The number of columns is, of course, the same: <b>785</b> (784 attributes + 1 label).<br>\n",
    "</div>"
   ]
  },
  {
   "cell_type": "markdown",
   "metadata": {},
   "source": [
    "### <div class=\"label label-warning\">CIFAR-10</div>"
   ]
  },
  {
   "cell_type": "code",
   "execution_count": 10,
   "metadata": {},
   "outputs": [
    {
     "name": "stdout",
     "output_type": "stream",
     "text": [
      "[TRAINSET]\n",
      "Number of rows: 50000\n",
      "Attributes: 3072 (without considering the label)\n",
      "\n",
      "[TESTSET]\n",
      "Number of rows: 10000\n",
      "Attributes: 3072 (without considering the label)\n",
      "\n",
      "Example:\n"
     ]
    },
    {
     "data": {
      "text/html": [
       "<div>\n",
       "<style scoped>\n",
       "    .dataframe tbody tr th:only-of-type {\n",
       "        vertical-align: middle;\n",
       "    }\n",
       "\n",
       "    .dataframe tbody tr th {\n",
       "        vertical-align: top;\n",
       "    }\n",
       "\n",
       "    .dataframe thead th {\n",
       "        text-align: right;\n",
       "    }\n",
       "</style>\n",
       "<table border=\"1\" class=\"dataframe\">\n",
       "  <thead>\n",
       "    <tr style=\"text-align: right;\">\n",
       "      <th></th>\n",
       "      <th>label</th>\n",
       "      <th>pixel0_r</th>\n",
       "      <th>pixel1_r</th>\n",
       "      <th>pixel2_r</th>\n",
       "      <th>pixel3_r</th>\n",
       "      <th>pixel4_r</th>\n",
       "      <th>pixel5_r</th>\n",
       "      <th>pixel6_r</th>\n",
       "      <th>pixel7_r</th>\n",
       "      <th>pixel8_r</th>\n",
       "      <th>...</th>\n",
       "      <th>pixel1014_b</th>\n",
       "      <th>pixel1015_b</th>\n",
       "      <th>pixel1016_b</th>\n",
       "      <th>pixel1017_b</th>\n",
       "      <th>pixel1018_b</th>\n",
       "      <th>pixel1019_b</th>\n",
       "      <th>pixel1020_b</th>\n",
       "      <th>pixel1021_b</th>\n",
       "      <th>pixel1022_b</th>\n",
       "      <th>pixel1023_b</th>\n",
       "    </tr>\n",
       "  </thead>\n",
       "  <tbody>\n",
       "    <tr>\n",
       "      <th>0</th>\n",
       "      <td>6</td>\n",
       "      <td>59</td>\n",
       "      <td>43</td>\n",
       "      <td>50</td>\n",
       "      <td>68</td>\n",
       "      <td>98</td>\n",
       "      <td>119</td>\n",
       "      <td>139</td>\n",
       "      <td>145</td>\n",
       "      <td>149</td>\n",
       "      <td>...</td>\n",
       "      <td>59</td>\n",
       "      <td>58</td>\n",
       "      <td>65</td>\n",
       "      <td>59</td>\n",
       "      <td>46</td>\n",
       "      <td>57</td>\n",
       "      <td>104</td>\n",
       "      <td>140</td>\n",
       "      <td>84</td>\n",
       "      <td>72</td>\n",
       "    </tr>\n",
       "    <tr>\n",
       "      <th>1</th>\n",
       "      <td>9</td>\n",
       "      <td>154</td>\n",
       "      <td>126</td>\n",
       "      <td>105</td>\n",
       "      <td>102</td>\n",
       "      <td>125</td>\n",
       "      <td>155</td>\n",
       "      <td>172</td>\n",
       "      <td>180</td>\n",
       "      <td>142</td>\n",
       "      <td>...</td>\n",
       "      <td>22</td>\n",
       "      <td>42</td>\n",
       "      <td>67</td>\n",
       "      <td>101</td>\n",
       "      <td>122</td>\n",
       "      <td>133</td>\n",
       "      <td>136</td>\n",
       "      <td>139</td>\n",
       "      <td>142</td>\n",
       "      <td>144</td>\n",
       "    </tr>\n",
       "    <tr>\n",
       "      <th>2</th>\n",
       "      <td>9</td>\n",
       "      <td>255</td>\n",
       "      <td>253</td>\n",
       "      <td>253</td>\n",
       "      <td>253</td>\n",
       "      <td>253</td>\n",
       "      <td>253</td>\n",
       "      <td>253</td>\n",
       "      <td>253</td>\n",
       "      <td>253</td>\n",
       "      <td>...</td>\n",
       "      <td>78</td>\n",
       "      <td>83</td>\n",
       "      <td>80</td>\n",
       "      <td>69</td>\n",
       "      <td>66</td>\n",
       "      <td>72</td>\n",
       "      <td>79</td>\n",
       "      <td>83</td>\n",
       "      <td>83</td>\n",
       "      <td>84</td>\n",
       "    </tr>\n",
       "    <tr>\n",
       "      <th>3</th>\n",
       "      <td>4</td>\n",
       "      <td>28</td>\n",
       "      <td>37</td>\n",
       "      <td>38</td>\n",
       "      <td>42</td>\n",
       "      <td>44</td>\n",
       "      <td>40</td>\n",
       "      <td>40</td>\n",
       "      <td>24</td>\n",
       "      <td>32</td>\n",
       "      <td>...</td>\n",
       "      <td>53</td>\n",
       "      <td>39</td>\n",
       "      <td>59</td>\n",
       "      <td>42</td>\n",
       "      <td>44</td>\n",
       "      <td>48</td>\n",
       "      <td>38</td>\n",
       "      <td>28</td>\n",
       "      <td>37</td>\n",
       "      <td>46</td>\n",
       "    </tr>\n",
       "    <tr>\n",
       "      <th>4</th>\n",
       "      <td>1</td>\n",
       "      <td>170</td>\n",
       "      <td>168</td>\n",
       "      <td>177</td>\n",
       "      <td>183</td>\n",
       "      <td>181</td>\n",
       "      <td>177</td>\n",
       "      <td>181</td>\n",
       "      <td>184</td>\n",
       "      <td>189</td>\n",
       "      <td>...</td>\n",
       "      <td>92</td>\n",
       "      <td>88</td>\n",
       "      <td>85</td>\n",
       "      <td>82</td>\n",
       "      <td>83</td>\n",
       "      <td>79</td>\n",
       "      <td>78</td>\n",
       "      <td>82</td>\n",
       "      <td>78</td>\n",
       "      <td>80</td>\n",
       "    </tr>\n",
       "  </tbody>\n",
       "</table>\n",
       "<p>5 rows × 3073 columns</p>\n",
       "</div>"
      ],
      "text/plain": [
       "   label  pixel0_r  pixel1_r  pixel2_r  pixel3_r  pixel4_r  pixel5_r  \\\n",
       "0      6        59        43        50        68        98       119   \n",
       "1      9       154       126       105       102       125       155   \n",
       "2      9       255       253       253       253       253       253   \n",
       "3      4        28        37        38        42        44        40   \n",
       "4      1       170       168       177       183       181       177   \n",
       "\n",
       "   pixel6_r  pixel7_r  pixel8_r     ...       pixel1014_b  pixel1015_b  \\\n",
       "0       139       145       149     ...                59           58   \n",
       "1       172       180       142     ...                22           42   \n",
       "2       253       253       253     ...                78           83   \n",
       "3        40        24        32     ...                53           39   \n",
       "4       181       184       189     ...                92           88   \n",
       "\n",
       "   pixel1016_b  pixel1017_b  pixel1018_b  pixel1019_b  pixel1020_b  \\\n",
       "0           65           59           46           57          104   \n",
       "1           67          101          122          133          136   \n",
       "2           80           69           66           72           79   \n",
       "3           59           42           44           48           38   \n",
       "4           85           82           83           79           78   \n",
       "\n",
       "   pixel1021_b  pixel1022_b  pixel1023_b  \n",
       "0          140           84           72  \n",
       "1          139          142          144  \n",
       "2           83           83           84  \n",
       "3           28           37           46  \n",
       "4           82           78           80  \n",
       "\n",
       "[5 rows x 3073 columns]"
      ]
     },
     "metadata": {},
     "output_type": "display_data"
    }
   ],
   "source": [
    "# PRINT TO DESCRIBE THE TRAIN\n",
    "print(\"[TRAINSET]\")\n",
    "print(\"Number of rows:\", cifarTrain.shape[0])\n",
    "print(\"Attributes:\", cifarTrain.drop(columns=['label']).shape[1], \"(without considering the label)\")\n",
    "\n",
    "print(\"\\n[TESTSET]\")\n",
    "print(\"Number of rows:\", cifarTest.shape[0])\n",
    "print(\"Attributes:\", cifarTest.drop(columns=['label']).shape[1], \"(without considering the label)\")\n",
    "\n",
    "print(\"\\nExample:\")\n",
    "display(cifarTrain.head(5))"
   ]
  },
  {
   "cell_type": "markdown",
   "metadata": {},
   "source": [
    "<div class='alert alert-warning'>\n",
    "The number of rows is <b>50000</b>, because we merged 5 files of 10000 rows (images) each. The number of columns is instead <b>3073</b> (3072 attributes + the label): why this number? Because each picture was a 32x32 pixels, with 3 channels (RGB), so each picture has 3072 pixels.<br>\n",
    "<br>\n",
    "The number of rows in the testset is smaller: <b>10000</b>.<br>\n",
    "</div>"
   ]
  },
  {
   "cell_type": "markdown",
   "metadata": {},
   "source": [
    "### 2.2 Data distribution analysis"
   ]
  },
  {
   "cell_type": "markdown",
   "metadata": {},
   "source": [
    "<div class='alert alert-info'>\n",
    "Now is time to analyze the distribution of our data. In this section I'm going to analyze the distribution of <b>both</b> the trainset and the testset, so I'll create the <tt>all</tt> variables.\n",
    "</div>"
   ]
  },
  {
   "cell_type": "code",
   "execution_count": 11,
   "metadata": {},
   "outputs": [],
   "source": [
    "# CREATE THE 'ALL' DATAFRAMES\n",
    "mnistAll = pd.concat((mnistTrain, mnistTest)).reset_index(drop=True)\n",
    "cifarAll = pd.concat((cifarTrain, cifarTest)).reset_index(drop=True)"
   ]
  },
  {
   "cell_type": "markdown",
   "metadata": {},
   "source": [
    "### <div class=\"label label-success\">FASHION-MNIST</div> <div class=\"label label-warning\">CIFAR-10</div>"
   ]
  },
  {
   "cell_type": "code",
   "execution_count": 12,
   "metadata": {},
   "outputs": [],
   "source": [
    "# TAKE DISTRIBUTION\n",
    "mnistDistribution = mnistAll[\"label\"].value_counts()\n",
    "cifarDistribution = cifarAll[\"label\"].value_counts()\n",
    "\n",
    "# TAKE CLASSES AND FREQUENCIES\n",
    "mnistClasses = np.array(mnistDistribution.index)\n",
    "mnistFrequencies = np.array(mnistDistribution.values)\n",
    "\n",
    "cifarClasses = np.array(cifarDistribution.index)\n",
    "cifarFrequencies = np.array(cifarDistribution.values)"
   ]
  },
  {
   "cell_type": "code",
   "execution_count": 13,
   "metadata": {},
   "outputs": [
    {
     "data": {
      "image/png": "[encoded data removed]",
      "text/plain": [
       "<Figure size 1080x360 with 2 Axes>"
      ]
     },
     "metadata": {},
     "output_type": "display_data"
    }
   ],
   "source": [
    "# PLOT THE DISTRIBUTION OF THE TARGET VARIABLE\n",
    "plt.figure(figsize=(15,5))\n",
    "\n",
    "plt.subplot(1,2,1)\n",
    "plt.bar(mnistClasses, mnistFrequencies, align=\"center\", color=\"green\")\n",
    "plt.xticks(list(range(np.min(mnistClasses), np.max(mnistClasses)+1)))\n",
    "plt.xlabel(\"Class\")\n",
    "plt.ylabel(\"Count\")\n",
    "plt.title(\"[Fashion-MNIST]\", weight=\"semibold\");\n",
    "\n",
    "plt.subplot(1,2,2)\n",
    "plt.bar(cifarClasses, cifarFrequencies, align=\"center\", color=\"orange\")\n",
    "plt.xticks(list(range(np.min(mnistClasses), np.max(mnistClasses)+1)))\n",
    "plt.xlabel(\"Class\")\n",
    "plt.ylabel(\"Count\")\n",
    "plt.title(\"[CIFAR-10]\", weight=\"semibold\");\n",
    "\n",
    "plt.suptitle(\"Distribution of the label (trainset + testset)\", fontsize=16, weight=\"bold\")\n",
    "plt.show()"
   ]
  },
  {
   "cell_type": "markdown",
   "metadata": {},
   "source": [
    "<div class='alert alert-info'>\n",
    "<div class='label label-danger'>QUESTION</div><br>\n",
    "<i><b>Comment on the distribution of class labels and the dimensionality of the input and how these may affect the analysis.</b></i><br>\n",
    "<br>\n",
    "<div class='label label-danger'>ANSWER</div><br>\n",
    "<b>- The dimensionality</b><br>\n",
    "First of all, the dimensionality is very high. As previously said, each column represents a pixel of the image! So, even a very small picture has a lot of features. A big dimensionality like this (784 attributes on the <tt>Fashion-MNIST</tt> and 3072 attributes on the <tt>CIFAR-10</tt>) can usually represent an issue, generally known as \"curse of dimensionality\" (<a href=\"https://en.wikipedia.org/wiki/Curse_of_dimensionality\">source</a>).<br>\n",
    "<br>\n",
    "However, the Naive Bayes classifier is usually <b>suited</b> when dealing with high-dimensional datasets: indeed, thanks to its simplicity and thanks also to its Naive assumptions can perform well when data dimensionality is really really high.\n",
    "<br><br>\n",
    "In our case, the high dimensionality is an issue especially for the regressor.\n",
    "The Bayesian Linear Regression algorithm, indeed, has to find the weights (and find the regression line) basing its analysis on a big set of dimensions, which is of course harder (and computationally heavier because of the big matrices in the products).<br>\n",
    "<br>\n",
    "<b>- The distribution</b><br>\n",
    "The distribution is <b>uniform</b>: each class has the same amount of images in the dataset. We'll use this fact to compute the prior probabilities in the Naive Bayes Classifier: being each prior the same for each class, the posterior computation will not be \"helped\" a lot by this factor.<br>\n",
    "</div>"
   ]
  },
  {
   "cell_type": "markdown",
   "metadata": {},
   "source": [
    "<div class='alert alert-info'>\n",
    "Before starting the new section, let's define some functions to graphically plot the confusion matrix, the errorplot and the scatter plot. This function will be useful to show the classifier and the regressor performance in the two datasets.\n",
    "</div>"
   ]
  },
  {
   "cell_type": "code",
   "execution_count": 14,
   "metadata": {},
   "outputs": [],
   "source": [
    "def plotConfusionMatrix(cm1, cm2, classes1, classes2, normalize = False):\n",
    "\n",
    "    def plotCM(cm, classes, cmap, title):\n",
    "        plt.imshow(cm, interpolation='nearest', cmap=cmap)\n",
    "        plt.title(title)\n",
    "        tick_marks = np.arange(len(classes))\n",
    "        plt.xticks(tick_marks, classes)\n",
    "        plt.yticks(tick_marks, classes)\n",
    "        plt.ylabel('True label')\n",
    "        plt.xlabel('Predicted label')\n",
    "        if normalize:\n",
    "            cm = cm.astype('float') / cm.sum(axis=1)[:, np.newaxis]\n",
    "        thresh = cm.max() / 2.\n",
    "        for i, j in itertools.product(range(cm.shape[0]), range(cm.shape[1])):\n",
    "            plt.text(j, i, cm[i, j],\n",
    "                     horizontalalignment=\"center\",\n",
    "                     color=\"white\" if cm[i, j] > thresh else \"black\")\n",
    "    \n",
    "    plt.figure(figsize=(15,8))\n",
    "    plt.subplot(1,2,1)\n",
    "    plotCM(cm1, classes1, \"Greens\", \"[Fashion-MNIST]\")\n",
    "    plt.subplot(1,2,2)\n",
    "    plotCM(cm2, classes2, \"Oranges\", \"[CIFAR-10]\")\n",
    "    \n",
    "    plt.subplots_adjust(wspace=0.5)\n",
    "    plt.show()\n",
    "    print()\n",
    "    \n",
    "def plotErrorPlot(pred1, pred2, var1, var2):\n",
    "    \n",
    "    def plotEP(pred, var, color, title):\n",
    "        plt.errorbar(np.arange(0,100), pred[:100], var[:100], ls=\"None\",\n",
    "                     color=color, marker=\".\", markerfacecolor=\"black\")\n",
    "        plt.title(title)\n",
    "    \n",
    "    plt.figure(figsize=(15,8))\n",
    "    plt.subplot(1,2,1)\n",
    "    plotEP(pred1, var1, \"green\", \"[Fashion-MNIST]\")\n",
    "    plt.subplot(1,2,2)\n",
    "    plotEP(pred2, var2, \"orange\", \"[CIFAR-10]\")\n",
    "    plt.suptitle(\"Predicted variances on a subset of the predicted data\", weight=\"semibold\", fontsize=14)\n",
    "    plt.show()\n",
    "    print()\n",
    "\n",
    "def plotScatterPlot(raw1, raw2, corr1, corr2):\n",
    "    \n",
    "    def plotSP(raw, corr, color, title):\n",
    "        plt.title(title)\n",
    "        plt.xticks(np.arange(0,10))\n",
    "        plt.yticks(np.arange(0,10))\n",
    "        plt.grid(axis='x', linestyle=':')\n",
    "        plt.scatter(raw, corr)\n",
    "    \n",
    "    plt.figure(figsize=(15,8))\n",
    "    plt.subplot(1,2,1)\n",
    "    plotSP(raw1, corr1, \"green\", \"[Fashion-MNIST]\")\n",
    "    plt.subplot(1,2,2)\n",
    "    plotSP(raw2, corr2, \"orange\", \"[CIFAR-10]\")\n",
    "    plt.suptitle(\"Scatter plot of true raw predictions versus predicted ones\", weight=\"semibold\", fontsize=14)\n",
    "    plt.show()\n",
    "    print()"
   ]
  },
  {
   "cell_type": "markdown",
   "metadata": {},
   "source": [
    "<div class='alert alert-info'>\n",
    "Moreover, to facilitate each model's work, we can normalize the values of our datasets (except for the class label) dividing each value by 255. Let's do it:\n",
    "</div>"
   ]
  },
  {
   "cell_type": "code",
   "execution_count": 15,
   "metadata": {},
   "outputs": [
    {
     "name": "stdout",
     "output_type": "stream",
     "text": [
      "Example of the normalized MNIST trainset:\n"
     ]
    },
    {
     "data": {
      "text/html": [
       "<div>\n",
       "<style scoped>\n",
       "    .dataframe tbody tr th:only-of-type {\n",
       "        vertical-align: middle;\n",
       "    }\n",
       "\n",
       "    .dataframe tbody tr th {\n",
       "        vertical-align: top;\n",
       "    }\n",
       "\n",
       "    .dataframe thead th {\n",
       "        text-align: right;\n",
       "    }\n",
       "</style>\n",
       "<table border=\"1\" class=\"dataframe\">\n",
       "  <thead>\n",
       "    <tr style=\"text-align: right;\">\n",
       "      <th></th>\n",
       "      <th>label</th>\n",
       "      <th>pixel1</th>\n",
       "      <th>pixel2</th>\n",
       "      <th>pixel3</th>\n",
       "      <th>pixel4</th>\n",
       "      <th>pixel5</th>\n",
       "      <th>pixel6</th>\n",
       "      <th>pixel7</th>\n",
       "      <th>pixel8</th>\n",
       "      <th>pixel9</th>\n",
       "      <th>...</th>\n",
       "      <th>pixel775</th>\n",
       "      <th>pixel776</th>\n",
       "      <th>pixel777</th>\n",
       "      <th>pixel778</th>\n",
       "      <th>pixel779</th>\n",
       "      <th>pixel780</th>\n",
       "      <th>pixel781</th>\n",
       "      <th>pixel782</th>\n",
       "      <th>pixel783</th>\n",
       "      <th>pixel784</th>\n",
       "    </tr>\n",
       "  </thead>\n",
       "  <tbody>\n",
       "    <tr>\n",
       "      <th>0</th>\n",
       "      <td>2</td>\n",
       "      <td>0.0</td>\n",
       "      <td>0.0</td>\n",
       "      <td>0.0</td>\n",
       "      <td>0.000000</td>\n",
       "      <td>0.000000</td>\n",
       "      <td>0.0</td>\n",
       "      <td>0.0</td>\n",
       "      <td>0.000000</td>\n",
       "      <td>0.0</td>\n",
       "      <td>...</td>\n",
       "      <td>0.000000</td>\n",
       "      <td>0.0</td>\n",
       "      <td>0.0</td>\n",
       "      <td>0.000000</td>\n",
       "      <td>0.000000</td>\n",
       "      <td>0.000000</td>\n",
       "      <td>0.0</td>\n",
       "      <td>0.0</td>\n",
       "      <td>0.0</td>\n",
       "      <td>0.0</td>\n",
       "    </tr>\n",
       "    <tr>\n",
       "      <th>1</th>\n",
       "      <td>9</td>\n",
       "      <td>0.0</td>\n",
       "      <td>0.0</td>\n",
       "      <td>0.0</td>\n",
       "      <td>0.000000</td>\n",
       "      <td>0.000000</td>\n",
       "      <td>0.0</td>\n",
       "      <td>0.0</td>\n",
       "      <td>0.000000</td>\n",
       "      <td>0.0</td>\n",
       "      <td>...</td>\n",
       "      <td>0.000000</td>\n",
       "      <td>0.0</td>\n",
       "      <td>0.0</td>\n",
       "      <td>0.000000</td>\n",
       "      <td>0.000000</td>\n",
       "      <td>0.000000</td>\n",
       "      <td>0.0</td>\n",
       "      <td>0.0</td>\n",
       "      <td>0.0</td>\n",
       "      <td>0.0</td>\n",
       "    </tr>\n",
       "    <tr>\n",
       "      <th>2</th>\n",
       "      <td>6</td>\n",
       "      <td>0.0</td>\n",
       "      <td>0.0</td>\n",
       "      <td>0.0</td>\n",
       "      <td>0.000000</td>\n",
       "      <td>0.000000</td>\n",
       "      <td>0.0</td>\n",
       "      <td>0.0</td>\n",
       "      <td>0.019608</td>\n",
       "      <td>0.0</td>\n",
       "      <td>...</td>\n",
       "      <td>0.000000</td>\n",
       "      <td>0.0</td>\n",
       "      <td>0.0</td>\n",
       "      <td>0.117647</td>\n",
       "      <td>0.168627</td>\n",
       "      <td>0.000000</td>\n",
       "      <td>0.0</td>\n",
       "      <td>0.0</td>\n",
       "      <td>0.0</td>\n",
       "      <td>0.0</td>\n",
       "    </tr>\n",
       "    <tr>\n",
       "      <th>3</th>\n",
       "      <td>0</td>\n",
       "      <td>0.0</td>\n",
       "      <td>0.0</td>\n",
       "      <td>0.0</td>\n",
       "      <td>0.003922</td>\n",
       "      <td>0.007843</td>\n",
       "      <td>0.0</td>\n",
       "      <td>0.0</td>\n",
       "      <td>0.000000</td>\n",
       "      <td>0.0</td>\n",
       "      <td>...</td>\n",
       "      <td>0.011765</td>\n",
       "      <td>0.0</td>\n",
       "      <td>0.0</td>\n",
       "      <td>0.000000</td>\n",
       "      <td>0.000000</td>\n",
       "      <td>0.003922</td>\n",
       "      <td>0.0</td>\n",
       "      <td>0.0</td>\n",
       "      <td>0.0</td>\n",
       "      <td>0.0</td>\n",
       "    </tr>\n",
       "    <tr>\n",
       "      <th>4</th>\n",
       "      <td>3</td>\n",
       "      <td>0.0</td>\n",
       "      <td>0.0</td>\n",
       "      <td>0.0</td>\n",
       "      <td>0.000000</td>\n",
       "      <td>0.000000</td>\n",
       "      <td>0.0</td>\n",
       "      <td>0.0</td>\n",
       "      <td>0.000000</td>\n",
       "      <td>0.0</td>\n",
       "      <td>...</td>\n",
       "      <td>0.000000</td>\n",
       "      <td>0.0</td>\n",
       "      <td>0.0</td>\n",
       "      <td>0.000000</td>\n",
       "      <td>0.000000</td>\n",
       "      <td>0.000000</td>\n",
       "      <td>0.0</td>\n",
       "      <td>0.0</td>\n",
       "      <td>0.0</td>\n",
       "      <td>0.0</td>\n",
       "    </tr>\n",
       "  </tbody>\n",
       "</table>\n",
       "<p>5 rows × 785 columns</p>\n",
       "</div>"
      ],
      "text/plain": [
       "   label  pixel1  pixel2  pixel3    pixel4    pixel5  pixel6  pixel7  \\\n",
       "0      2     0.0     0.0     0.0  0.000000  0.000000     0.0     0.0   \n",
       "1      9     0.0     0.0     0.0  0.000000  0.000000     0.0     0.0   \n",
       "2      6     0.0     0.0     0.0  0.000000  0.000000     0.0     0.0   \n",
       "3      0     0.0     0.0     0.0  0.003922  0.007843     0.0     0.0   \n",
       "4      3     0.0     0.0     0.0  0.000000  0.000000     0.0     0.0   \n",
       "\n",
       "     pixel8  pixel9    ...     pixel775  pixel776  pixel777  pixel778  \\\n",
       "0  0.000000     0.0    ...     0.000000       0.0       0.0  0.000000   \n",
       "1  0.000000     0.0    ...     0.000000       0.0       0.0  0.000000   \n",
       "2  0.019608     0.0    ...     0.000000       0.0       0.0  0.117647   \n",
       "3  0.000000     0.0    ...     0.011765       0.0       0.0  0.000000   \n",
       "4  0.000000     0.0    ...     0.000000       0.0       0.0  0.000000   \n",
       "\n",
       "   pixel779  pixel780  pixel781  pixel782  pixel783  pixel784  \n",
       "0  0.000000  0.000000       0.0       0.0       0.0       0.0  \n",
       "1  0.000000  0.000000       0.0       0.0       0.0       0.0  \n",
       "2  0.168627  0.000000       0.0       0.0       0.0       0.0  \n",
       "3  0.000000  0.003922       0.0       0.0       0.0       0.0  \n",
       "4  0.000000  0.000000       0.0       0.0       0.0       0.0  \n",
       "\n",
       "[5 rows x 785 columns]"
      ]
     },
     "metadata": {},
     "output_type": "display_data"
    }
   ],
   "source": [
    "def normalize(dataset):\n",
    "    return dataset.apply(lambda col: col.divide(255) if(col.name != \"label\") else col)\n",
    "\n",
    "# NORMALIZE MNIST\n",
    "mnistTrainNorm = normalize(mnistTrain)\n",
    "mnistTestNorm = normalize(mnistTest)\n",
    "\n",
    "# NORMALIZE CIFAR\n",
    "cifarTrainNorm = normalize(cifarTrain)\n",
    "cifarTestNorm = normalize(cifarTest)\n",
    "\n",
    "# PRINT AN EXAMPLE\n",
    "print(\"Example of the normalized MNIST trainset:\")\n",
    "display(mnistTrainNorm.head(5))"
   ]
  },
  {
   "cell_type": "code",
   "execution_count": 16,
   "metadata": {},
   "outputs": [],
   "source": [
    "# SPLIT THE DATASETS IN 'X' AND 'y'\n",
    "# Fashion-MNIST\n",
    "mnistTrain = mnistTrainNorm.drop(columns=['label']).values\n",
    "mnistTarget = mnistTrainNorm['label'].values\n",
    "mnistTest = mnistTestNorm.drop(columns=['label']).values\n",
    "mnistCorrect = mnistTestNorm['label'].values\n",
    "\n",
    "# CIFAR-10\n",
    "cifarTrain = cifarTrainNorm.drop(columns=['label']).values\n",
    "cifarTarget = cifarTrainNorm['label'].values\n",
    "cifarTest = cifarTestNorm.drop(columns=['label']).values\n",
    "cifarCorrect = cifarTestNorm['label'].values"
   ]
  },
  {
   "cell_type": "markdown",
   "metadata": {},
   "source": [
    "<div class='alert alert-info'>\n",
    "Now we're ready to start the classification.\n",
    "</div>"
   ]
  },
  {
   "cell_type": "markdown",
   "metadata": {},
   "source": [
    "# 3. Classification"
   ]
  },
  {
   "cell_type": "markdown",
   "metadata": {},
   "source": [
    "<div class='alert alert-info'>\n",
    "<div class='label label-info'>TASK</div><br>\n",
    "<b><i>a) Implement the Naive Bayes Classifier.<br></i></b>\n",
    "<br>\n",
    "The <b>Naive Bayes Classifier</b> is for sure the most basic and simple algorithm belonging to the probabilistic classifiers family. It puts its roots into the Bayes theorem, specifically the <b>Naive</b> version, which considers independent all the features. This assumption has of course two main aspects: the first one is to heavily simplify the computation, the other one is of course to be too \"naive\", not respecting most of the times the real dependence among features.<br>\n",
    "<br>\n",
    "$$\n",
    "P(t_{new}=k \\mid \\mathbf{X}, \\mathbf{t}, \\mathbf{x_{new}}) = \n",
    "    \\dfrac{P(\\mathbf{x_{new}} \\mid t_{new}=k, \\mathbf{X}, \\mathbf{t}) \\space P(t_{new}=k)}\n",
    "          {\\sum_{j=0}^{K-1} P(\\mathbf{x_{new}} \\mid t_{new}=j, \\mathbf{X}, \\mathbf{t}) \\space P(t_{new}=j) }\n",
    "$$\n",
    "<br><br>\n",
    "The <b>prior</b> probability, $P(t_{new}=k)$, will be computed taking the occurrence probability of each class (in this case, the same for each class, given the label distribution).<br>\n",
    "<br>\n",
    "The <b>likelihood</b>, instead, is represented by:<br>\n",
    "$$\n",
    "P(\\mathbf{x} \\mid t=k, \\mathbf{X}, \\mathbf{t}) = \\mathcal{N}(\\mu_{kd}, \\sigma_{kd})\n",
    "$$\n",
    "<br>\n",
    "where $\\mu$ and $\\sigma$ are respectively the <b>mean</b> of each feature for each class, and the <b>variance</b> of each feature for each class.\n",
    "<br><br>\n",
    "Given the fact that we're only interested to the maximum posterior value among all class for each image, we can use also the <b>log-likelihood</b>: in this way, numerical issues are avoided.\n",
    "<br>\n",
    "Moreover, the denominator is just a normalization constant, not useful in the max-search, we can avoid it.\n",
    "<br><br>\n",
    "The computed expression so, will be:\n",
    "<br>\n",
    "$$\n",
    "\\log P(t_{new}=k \\mid \\mathbf{X}, \\mathbf{t}, \\mathbf{x_{new}}) = \\log P(\\mathbf{x} \\mid t=k, \\mathbf{X}, \\mathbf{t}) + \\log P(t=k)\n",
    "$$\n",
    "</div>"
   ]
  },
  {
   "cell_type": "code",
   "execution_count": 17,
   "metadata": {},
   "outputs": [],
   "source": [
    "class NaiveBayesClassifier:\n",
    "    \n",
    "    # ----- PRIVATE METHODS ------------------------------------------------- #\n",
    "    # MEANS AND VARIANCES FOR THE LIKELIHOOD: P(X|C)\n",
    "    def _computeMeansVars(self, train, target):\n",
    "        \n",
    "        # Temp DataFrame\n",
    "        pdf = pd.DataFrame(train)\n",
    "        pdf['label'] = target\n",
    "        \n",
    "        # Compute means and variances. For example:\n",
    "        #    <means> |  attr0 | attr1 | ...    #  <vars> |  attr0 | attr1 | ...\n",
    "        #    --------------------------        # --------------------------    \n",
    "        #    class0  |   12   |   3   | ...    # class0  |   0.2  |  0.03 | ...\n",
    "        #    class1  |   8    |   0   | ...    # class1  |  0.07  |  0.1  | ...\n",
    "        #      ...   |  ...   |  ...  | ...    #   ...   |  ...   |  ...  | ...\n",
    "        self.means = pdf.groupby(\"label\").mean().values\n",
    "        self.vars = pdf.groupby(\"label\").var().values\n",
    "        self.vars[self.vars < 0.01] = 0.01 # avoid 0 variance adding some noise\n",
    "    \n",
    "    \n",
    "    # PRIORS: P(C)\n",
    "    def _computePriors(self, target):\n",
    "        \n",
    "        # Compute the distribution of the label\n",
    "        self.priors = np.bincount(target) / len(target)\n",
    "    \n",
    "    \n",
    "    # LIKELIHOOD: P(X|C)\n",
    "    def _logLikelihood(self, data, c):\n",
    "        \n",
    "        # Compute the P(X|Ci) using the logarithmic gaussian probability\n",
    "        likelihoodC = -0.5*np.sum(np.log(2.*np.pi*self.vars[c,:]))-0.5*np.sum(((data-self.means[c,:])**2)/(self.vars[c,:]),1)\n",
    "        \n",
    "        # Sum it to the likelihoods accumulator (useful for the quality metric)\n",
    "        self.likelihoods[c] += np.sum(likelihoodC)\n",
    "        \n",
    "        # Use the logarithmic pdf of the Multivariate Gaussian\n",
    "        return likelihoodC\n",
    "    # ----------------------------------------------------------------------- # \n",
    "    \n",
    "    \n",
    "    # ----- PUBLIC METHODS -------------------------------------------------- #\n",
    "    # TRAIN - LIKELIHOOD and PRIOR\n",
    "    def fit(self, train, target):\n",
    "        \n",
    "        # Classes\n",
    "        self.classes = list(np.unique(target))\n",
    "        \n",
    "        # Init the likelihoods array (useful for quality metric)\n",
    "        self.likelihoods = np.empty(shape=(len(self.classes)), dtype=int)\n",
    "        \n",
    "        # Compute priors and likelihoods\n",
    "        self._computePriors(target)\n",
    "        self._computeMeansVars(train, target)\n",
    "        \n",
    "        return self.classes\n",
    "    \n",
    "    \n",
    "    # TEST - POSTERIOR: P(C|X)\n",
    "    def predict(self, test):\n",
    "        \n",
    "        # The posterior array will be like:\n",
    "        #     <post> | sample0 | sample1 | ...\n",
    "        #    -----------------------------\n",
    "        #    class0  |   0.1   |  0.4   | ...\n",
    "        #    class1  |   0.18  |  0.35  | ...\n",
    "        #      ...   |   ...   |  ...   | ... \n",
    "        self.posteriors = np.array([self._logLikelihood(test, c) + np.log(self.priors[c]) for c in self.classes])\n",
    "        \n",
    "        # Select the class with max probability for each sample\n",
    "        return np.argmax(self.posteriors, axis=0)\n",
    "    \n",
    "    \n",
    "    # VALIDATE PREDICTION\n",
    "    def validate(self, pred, correct):\n",
    "        \n",
    "        # Accuracy, error, confusion matrix\n",
    "        acc = np.mean(pred == correct)\n",
    "        err = np.mean(pred != correct)\n",
    "        cm = confusion_matrix(correct, pred)\n",
    "        \n",
    "        return acc, err, cm, np.sum(self.likelihoods)\n",
    "    # ----------------------------------------------------------------------- #"
   ]
  },
  {
   "cell_type": "markdown",
   "metadata": {},
   "source": [
    "<div class='alert alert-info'>\n",
    "<div class='label label-danger'>QUESTION</div><br>\n",
    "<b><i>b) Describe a positive and a negative feature of the classifier for these tasks.<br></i></b>\n",
    "<br>\n",
    "<div class='label label-danger'>ANSWER</div><br>\n",
    "Regarding <b>positive</b> features, as said before, the Naive Bayes Classifier has the capability to work also with really high-dimensional datasets. Thanks to its simplicity, indeed, it hasn't relevant dimensionality issues. Moreover, there is no need to set (and search for the best) hyperparameters to make it work: it works as it maximum capabilities right after it's implemented.\n",
    "<br><br>\n",
    "The <b>negative</b> feature is, of course, its <b>Naive assumption</b>. It assumes that all the features are independent, which of course is not true for the biggest part of the available datasets. This model is too simple for a good image classification, a field in which more complex models, like Convolutional Neural Networks, are leading (<a href=\"https://en.wikipedia.org/wiki/Convolutional_neural_network\">source</a>).\n",
    "</div>"
   ]
  },
  {
   "cell_type": "markdown",
   "metadata": {},
   "source": [
    "<div class='alert alert-info'>\n",
    "<div class='label label-danger'>QUESTION</div><br>\n",
    "<b><i>c) Describe any data pre-processing that you suggest for this data and your classifier.<br></i></b>\n",
    "<br>\n",
    "<div class='label label-danger'>ANSWER</div><br>\n",
    "Classifiers (and models, in general) can be hugely helped by a good data pre-processing. In this case, one of the first things that one can think is the dimensionality reduction. Like said before the Naive Bayes Classifier doesn't suffer a lot from high-dimensional datasets, but speaking in general terms, models are of course facilitated in their work when they have to deal with a reduced set of feature. For this reason one can think about <b>PCA</b> (<i>Principal Component Analysis</i>, source <a href=\"https://en.wikipedia.org/wiki/Principal_component_analysis\">here</a>) or <b>LDA</b> (<i>Linear discriminant analysis</i>, source <a href=\"https://en.wikipedia.org/wiki/Linear_discriminant_analysis\">here</a>): in this case LDA is clearly more appropriate, because it looks for linear combination of variables that can express better the original space (like PCA) but taking into considerations the labels, so making a net distinction between classes of the dataset.<br>\n",
    "<br>\n",
    "Another thing that can be tried, is to transform each picture of the <tt>CIFAR-10</tt> dataset in <b>grayscale</b>, deleting the color information. This can be done with a simple weighted sum between the R, G and B components (<i>0.21 R + 0.72 G + 0.07 B</i>). Of course this will delete some informations, but will be at the same time a dimensionality reduction: maybe the predictions can improve, or maybe not. The only thing that one can do is to try.<br>\n",
    "<br>\n",
    "Talking about two concrete pre-processing related to these two datasets: images are of course been <b>flattened</b> (when they were originally loaded in the \"square\" shape) and the pixel values have been <b>normalized</b>, bringing them in the range [0.0, 1.0] instead of [0, 255].\n",
    "</div>"
   ]
  },
  {
   "cell_type": "markdown",
   "metadata": {},
   "source": [
    "<div class='alert alert-info'>\n",
    "<div class='label label-info'>TASK</div><br>\n",
    "<b><i>d) Apply your classifier to the two given datasets.<br></i></b>\n",
    "</div>"
   ]
  },
  {
   "cell_type": "code",
   "execution_count": 18,
   "metadata": {},
   "outputs": [],
   "source": [
    "# CLASSIFY FUNCTION\n",
    "def classify(train, target, test, correct):\n",
    "    \n",
    "    # NAIVE BAYES CLASSIFIER\n",
    "    nbc = NaiveBayesClassifier()\n",
    "\n",
    "    # TRAIN\n",
    "    startTime = time()\n",
    "    classes = nbc.fit(train, target)\n",
    "    endTime = time()\n",
    "    print(\"Train time: %.3f seconds\" % (endTime-startTime))\n",
    "\n",
    "    # TEST\n",
    "    startTime = time()\n",
    "    pred = nbc.predict(test)\n",
    "    endTime = time()\n",
    "    print(\"Test time:  %.3f seconds\\n\" % (endTime-startTime))\n",
    "\n",
    "    # VALIDATION\n",
    "    accuracy, error, cm, ls = nbc.validate(pred, correct)\n",
    "    print(\"Accuracy: %.2f%%\" % (accuracy * 100))\n",
    "    print(\"Likelihood sum: %d\" % (ls))\n",
    "    \n",
    "    return cm"
   ]
  },
  {
   "cell_type": "markdown",
   "metadata": {},
   "source": [
    "### <div class=\"label label-success\">FASHION-MNIST</div>"
   ]
  },
  {
   "cell_type": "markdown",
   "metadata": {},
   "source": [
    "<div class='alert alert-success'>\n",
    "Let's start the classification for the <tt>Fashion-MNIST</tt> dataset:\n",
    "</div>"
   ]
  },
  {
   "cell_type": "code",
   "execution_count": 19,
   "metadata": {},
   "outputs": [
    {
     "name": "stdout",
     "output_type": "stream",
     "text": [
      "Train time: 3.844 seconds\n",
      "Test time:  1.409 seconds\n",
      "\n",
      "Accuracy: 69.81%\n",
      "Likelihood sum: -98732199\n"
     ]
    }
   ],
   "source": [
    "# CLASSIFY\n",
    "mnistCM = classify(mnistTrain, mnistTarget, mnistTest, mnistCorrect)"
   ]
  },
  {
   "cell_type": "markdown",
   "metadata": {},
   "source": [
    "### <div class=\"label label-warning\">CIFAR-10</div>"
   ]
  },
  {
   "cell_type": "markdown",
   "metadata": {},
   "source": [
    "<div class='alert alert-warning'>\n",
    "Now it's time for the <tt>CIFAR-10</tt> classification:\n",
    "</div>"
   ]
  },
  {
   "cell_type": "code",
   "execution_count": 20,
   "metadata": {},
   "outputs": [
    {
     "name": "stdout",
     "output_type": "stream",
     "text": [
      "Train time: 12.411 seconds\n",
      "Test time:  5.276 seconds\n",
      "\n",
      "Accuracy: 29.76%\n",
      "Likelihood sum: -21171444\n"
     ]
    }
   ],
   "source": [
    "# CLASSIFY\n",
    "cifarCM = classify(cifarTrain, cifarTarget, cifarTest, cifarCorrect)"
   ]
  },
  {
   "cell_type": "markdown",
   "metadata": {},
   "source": [
    "<div class='alert alert-info'>\n",
    "<div class='label label-info'>TASK</div><br>\n",
    "<b><i>e) Display the confusion matrix on the test data.<br></i></b>\n",
    "</div>"
   ]
  },
  {
   "cell_type": "code",
   "execution_count": 21,
   "metadata": {},
   "outputs": [
    {
     "data": {
      "image/png": "[encoded data removed]",
      "text/plain": [
       "<Figure size 1080x576 with 2 Axes>"
      ]
     },
     "metadata": {},
     "output_type": "display_data"
    }
   ],
   "source": [
    "plotConfusionMatrix(mnistCM, cifarCM, mnistClasses, cifarClasses)"
   ]
  },
  {
   "cell_type": "markdown",
   "metadata": {},
   "source": [
    "<div class='alert alert-info'>\n",
    "<div class='label label-danger'>QUESTION</div><br>\n",
    "<b><i>f) Discuss the performance, compare them against a classifier that outputs\n",
    "random class labels, and suggest ways in which performance could be improved.<br></i></b>\n",
    "<br>\n",
    "<div class='label label-danger'>ANSWER</div><br>\n",
    "The performance are \"good\", considering that our models are very very simple. What is clear is that the performances on the <tt>Fashion-MNIST</tt> are way better than the <tt>CIFAR-10</tt> dataset. One of the things that cause the model to work badly are of course the dimensionality of the <tt>CIFAR-10</tt> dataset.<br>\n",
    "As said before, we can apply LDA or try to reduce the dimensionality (especially for the <tt>CIFAR-10</tt> dataset) to facilitate the models life.<br>\n",
    "<br>\n",
    "The accuracies are:<br>\n",
    "- [CLASSIFICATION] <tt>Fashion-MNIST</tt> accuracy: <b>69.81%</b><br>\n",
    "- [CLASSIFICATION] <tt>CIFAR-10</tt> accuracy: <b>29.76%</b><br>\n",
    "</div>"
   ]
  },
  {
   "cell_type": "markdown",
   "metadata": {},
   "source": [
    "Let's see what happens for a <b>Random</b> classifier:"
   ]
  },
  {
   "cell_type": "code",
   "execution_count": 22,
   "metadata": {},
   "outputs": [
    {
     "name": "stdout",
     "output_type": "stream",
     "text": [
      "\n",
      "[RANDOM Classifier] Fashion-MNIST random accuracy: 9.92%\n",
      "[RANDOM Classifier] CIFAR-10 random accuracy:      10.22%\n"
     ]
    }
   ],
   "source": [
    "# RANDOM PREDICTIONS\n",
    "mnistRandPred = np.random.randint(0, 9, mnistTest.shape[0])\n",
    "cifarRandPred = np.random.randint(0, 9, cifarTest.shape[0])\n",
    "\n",
    "# ACCURACY\n",
    "mnistRandAcc = np.mean(mnistRandPred == mnistCorrect)\n",
    "cifarRandAcc = np.mean(cifarRandPred == cifarCorrect)\n",
    "\n",
    "# SHOW\n",
    "print(\"[RANDOM Classifier] Fashion-MNIST random accuracy: %.2f%%\" % (mnistRandAcc * 100))\n",
    "print(\"[RANDOM Classifier] CIFAR-10 random accuracy:      %.2f%%\" % (cifarRandAcc * 100))"
   ]
  },
  {
   "cell_type": "markdown",
   "metadata": {},
   "source": [
    "<div class='alert alert-info'>\n",
    "The <b>random</b> classifier, of course, has an accuracy around 10%: the probability of getting the right class is $\\frac{right \\space class}{all \\space classes}$, in this case: $\\frac{1}{10}$.\n",
    "</div>"
   ]
  },
  {
   "cell_type": "markdown",
   "metadata": {},
   "source": [
    "# 4. Bayesian Regression"
   ]
  },
  {
   "cell_type": "markdown",
   "metadata": {},
   "source": [
    "<div class='alert alert-info'>\n",
    "<div class='label label-info'>TASK</div><br>\n",
    "<b><i>a) Implement the Bayesian Linear Regression.<br></i></b>\n",
    "</div>"
   ]
  },
  {
   "cell_type": "code",
   "execution_count": 23,
   "metadata": {},
   "outputs": [],
   "source": [
    "class BayesianLinearRegression:\n",
    "    \n",
    "    # ----- PRIVATE METHODS ------------------------------------------------- #\n",
    "    # CREATE THE MATRIX FOR THE MATRICIAL-FORM REGRESSION\n",
    "    def _matricize(self, x, k):\n",
    "        \n",
    "        # ALLOCATE MATRIX\n",
    "        X = np.ones(shape=(x.shape[0], 1), dtype=int)\n",
    "\n",
    "        # STACK COLUMNS\n",
    "        for i in range(k):\n",
    "            X = np.hstack((X, np.power(x, i+1))) \n",
    "            \n",
    "        return X\n",
    "    \n",
    "    \n",
    "    # COMPUTE THE WEIGHTS ARRAY\n",
    "    def _weights(self, X, t):\n",
    "        \n",
    "        # np.linalg.solve, when feasible, is faster so:\n",
    "        #     inv(X.T.dot(X)).dot(X.T).dot(t)\n",
    "        # becomes:\n",
    "        return solve(X.T.dot(X), X.T.dot(t))\n",
    "    \n",
    "    \n",
    "    # RETURN THE VARIANCE\n",
    "    def _variance(self, X, w, t):\n",
    "        \n",
    "        return (t - X.dot(w.T)).T.dot(t - X.dot(w.T)) / X.shape[0]\n",
    "    \n",
    "    \n",
    "    # RETURN THE PREDICTED t\n",
    "    def _target(self, X_new, w):\n",
    "        \n",
    "        return X_new.dot(w.T)\n",
    "    \n",
    "    \n",
    "    # RETURN THE PREDICTIVE VARIANCE\n",
    "    def _predictiveVar(self, X_new, X, var):\n",
    "        \n",
    "        # (\"+\" instead of \"*\" for numerical reasons)\n",
    "        return var + np.diag(X_new.dot(inv(X.T.dot(X))).dot(X_new.T))\n",
    "    # ----------------------------------------------------------------------- #\n",
    "    \n",
    "    \n",
    "    # ----- PUBLIC METHODS -------------------------------------------------- #\n",
    "    # TRAIN\n",
    "    def fit(self, train, target, k):\n",
    "        \n",
    "        # Compute X, w and t\n",
    "        self.X = self._matricize(train, k)\n",
    "        self.w = self._weights(self.X, target)\n",
    "        self.var = self._variance(self.X, self.w, target)\n",
    "        \n",
    "        return np.unique(target)\n",
    "    \n",
    "    \n",
    "    # TEST\n",
    "    def predict(self, test, k):\n",
    "        \n",
    "        # Compute the matrix for the test set\n",
    "        X_new = self._matricize(test, k)\n",
    "        \n",
    "        # Predict the new target for the test set (as a continuous variable)\n",
    "        t_new_raw = self._target(X_new, self.w)\n",
    "        \n",
    "        # Discretize predictions \n",
    "        discretizer = np.vectorize(lambda label: 9 if label > 9 else (0 if label < 0 else round(label)))\n",
    "        t_new = np.array(discretizer(t_new_raw), dtype=int)\n",
    "        \n",
    "        # Compute the predictive variance\n",
    "        var_new = self._predictiveVar(X_new, self.X, self.var)\n",
    "        \n",
    "        return t_new, var_new, t_new_raw\n",
    "        \n",
    "    \n",
    "    # VALIDATION\n",
    "    def validate(self, pred, correct, raw):\n",
    "        \n",
    "        # Accuracy, error, confusion matrix, mse\n",
    "        acc = np.mean(pred == correct)\n",
    "        err = np.mean(pred != correct)\n",
    "        cm = confusion_matrix(correct, pred)\n",
    "        mse = mean_squared_error(correct, raw)\n",
    "        \n",
    "        return acc, err, cm, mse\n",
    "    # ----------------------------------------------------------------------- #"
   ]
  },
  {
   "cell_type": "markdown",
   "metadata": {},
   "source": [
    "<div class='alert alert-info'>\n",
    "<div class='label label-info'>TASK</div><br>\n",
    "<b><i>b) Treat class labels as continuous and apply regression to the training data.<br></i></b>\n",
    "</div>"
   ]
  },
  {
   "cell_type": "code",
   "execution_count": 24,
   "metadata": {},
   "outputs": [],
   "source": [
    "def regress(train, target, test, correct, k):\n",
    "    \n",
    "    # BAYESIAN LINEAR REGRESSION\n",
    "    blr = BayesianLinearRegression()\n",
    "\n",
    "    # TRAIN\n",
    "    startTime = time()\n",
    "    classes = blr.fit(train, target, k)\n",
    "    endTime = time()\n",
    "    print(\"Train time: %.3f seconds\" % (endTime-startTime))\n",
    "\n",
    "    # TEST\n",
    "    startTime = time()\n",
    "    pred, var, raw = blr.predict(test, k)\n",
    "    endTime = time()\n",
    "    print(\"Test time:  %.3f seconds\\n\" % (endTime-startTime))\n",
    "\n",
    "    # VALIDATION\n",
    "    # Accuracy\n",
    "    accuracy, error, cm, mse = blr.validate(pred, correct, raw)\n",
    "    print(\"[RAW PREDICTIONS] Mean Squared Error (MSE): %.2f\" % (mse))\n",
    "    print(\"[DISCRETE PREDICTIONS] Accuracy: %.2f%%\" % (accuracy * 100))\n",
    "    \n",
    "    return pred, var, raw, cm\n",
    "\n",
    "\n",
    "def validatePictures(mnistPred, mnistVar, mnistRaw, mnistCM,\n",
    "                     cifarPred, cifarVar, cifarRaw, cifarCM):\n",
    "    \n",
    "    # ERRORPLOT\n",
    "    plotErrorPlot(mnistPred, cifarPred, mnistVar, cifarVar)\n",
    "    \n",
    "    # SCATTER PLOT\n",
    "    plotScatterPlot(mnistRaw, cifarRaw, mnistCorrect, cifarCorrect)"
   ]
  },
  {
   "cell_type": "markdown",
   "metadata": {},
   "source": [
    "### <div class=\"label label-success\">FASHION-MNIST</div>"
   ]
  },
  {
   "cell_type": "code",
   "execution_count": 25,
   "metadata": {},
   "outputs": [
    {
     "name": "stdout",
     "output_type": "stream",
     "text": [
      "Train time: 1.894 seconds\n",
      "Test time:  4.247 seconds\n",
      "\n",
      "[RAW PREDICTIONS] Mean Squared Error (MSE): 1.96\n",
      "[DISCRETE PREDICTIONS] Accuracy: 39.19%\n"
     ]
    }
   ],
   "source": [
    "# REGRESS\n",
    "mnistPred, mnistVar, mnistRaw, mnistCM = regress(mnistTrain, mnistTarget, mnistTest, mnistCorrect, k = 1)"
   ]
  },
  {
   "cell_type": "markdown",
   "metadata": {},
   "source": [
    "### <div class=\"label label-warning\">CIFAR-10</div>"
   ]
  },
  {
   "cell_type": "code",
   "execution_count": 26,
   "metadata": {},
   "outputs": [
    {
     "name": "stdout",
     "output_type": "stream",
     "text": [
      "Train time: 10.529 seconds\n",
      "Test time:  23.637 seconds\n",
      "\n",
      "[RAW PREDICTIONS] Mean Squared Error (MSE): 8.03\n",
      "[DISCRETE PREDICTIONS] Accuracy: 10.95%\n"
     ]
    }
   ],
   "source": [
    "# REGRESS\n",
    "cifarPred, cifarVar, cifarRaw, cifarCM = regress(cifarTrain, cifarTarget, cifarTest, cifarCorrect, k = 1)"
   ]
  },
  {
   "cell_type": "markdown",
   "metadata": {},
   "source": [
    "<div class='alert alert-info'>\n",
    "<div class='label label-info'>TASK</div><br>\n",
    "<b><i>c) Produce a scatter plot showing the predictions versus the true targets for the\n",
    "test set and compute the mean squared error on the test set.<br></i></b>\n",
    "</div>"
   ]
  },
  {
   "cell_type": "code",
   "execution_count": 27,
   "metadata": {},
   "outputs": [
    {
     "data": {
      "image/png": "[encoded data removed]",
      "text/plain": [
       "<Figure size 1080x576 with 2 Axes>"
      ]
     },
     "metadata": {},
     "output_type": "display_data"
    },
    {
     "name": "stdout",
     "output_type": "stream",
     "text": [
      "\n"
     ]
    },
    {
     "data": {
      "image/png": "[encoded data removed]",
      "text/plain": [
       "<Figure size 1080x576 with 2 Axes>"
      ]
     },
     "metadata": {},
     "output_type": "display_data"
    },
    {
     "name": "stdout",
     "output_type": "stream",
     "text": [
      "\n"
     ]
    }
   ],
   "source": [
    "# PLOT IMAGES\n",
    "validatePictures(mnistPred, mnistVar, mnistRaw, mnistCM,\n",
    "                 cifarPred, cifarVar, cifarRaw, cifarCM)"
   ]
  },
  {
   "cell_type": "markdown",
   "metadata": {},
   "source": [
    "<div class='alert alert-info'>\n",
    "<div class='label label-danger'>QUESTION</div><br>\n",
    "<b><i>d) Suggest a way to discretize predictions and display the confusion matrix on the\n",
    "test data and report accuracy.<br></i></b>\n",
    "<br>\n",
    "<div class='label label-danger'>ANSWER</div><br>\n",
    "The predictions have been discretized in a really simple way: the continuous variables have been rounded to the closest integer. Moreover, the values smaller than 0 have been approximated to 0, and the values bigger than 9 have been approximated to 9.<br>\n",
    "More advanced approaches could have been taken, like one-hot encode the labels and regress on each \"column\" of the one-hot encoded classes.\n",
    "</div>"
   ]
  },
  {
   "cell_type": "code",
   "execution_count": 28,
   "metadata": {},
   "outputs": [
    {
     "data": {
      "image/png": "[encoded data removed]",
      "text/plain": [
       "<Figure size 1080x576 with 2 Axes>"
      ]
     },
     "metadata": {},
     "output_type": "display_data"
    },
    {
     "name": "stdout",
     "output_type": "stream",
     "text": [
      "\n"
     ]
    }
   ],
   "source": [
    "# CONFUSION MATRIX\n",
    "plotConfusionMatrix(mnistCM, cifarCM, mnistClasses, cifarClasses)"
   ]
  },
  {
   "cell_type": "markdown",
   "metadata": {},
   "source": [
    "<div class='alert alert-info'>\n",
    "<div class='label label-danger'>QUESTION</div><br>\n",
    "<b><i>e)  Discuss regression performance with respect to classification performance.<br></i></b>\n",
    "<br>\n",
    "<div class='label label-danger'>ANSWER</div><br>\n",
    "The regression performances are of course very weak with respect to classification performance. A linear regression is a totally wrong tool to approach image classification problems. We're using a <i>\"little drill against a huge building in reinforced concrete\"</i>.<br>\n",
    "<br>\n",
    "The regressor performances are:<br>\n",
    "- [REGRESSION] <tt>Fashion-MNIST</tt> accuracy: <b>39.19%</b><br>\n",
    "- [REGRESSION] <tt>CIFAR-10</tt> accuracy: <b>10.95%</b><br>\n",
    "<br>\n",
    "Also from the point of view of the computational time, in both datasets the Bayesian Regression is way slower than the Naive Bayes Classifier.\n",
    "</div>"
   ]
  },
  {
   "cell_type": "markdown",
   "metadata": {},
   "source": [
    "<div class='alert alert-info'>\n",
    "<div class='label label-danger'>QUESTION</div><br>\n",
    "<b><i>f) Describe one limitation of using regression for this particular task.<br></i></b>\n",
    "<br>\n",
    "<div class='label label-danger'>ANSWER</div><br>\n",
    "One big limitation of linear regression is that it works trying to find a set of weights that models the relationships between the continuous data and the labels. In this case, even if it \"works\", is totally out of context: we're trying to find a set of discrete labels (from 0 to 9) according to some pre-defined pattern. Like said before: we're using a <i>\"little drill against a huge building in reinforced concrete\"</i>.\n",
    "</div>"
   ]
  },
  {
   "cell_type": "markdown",
   "metadata": {},
   "source": [
    "# 5. Bonus question\n",
    "### Integrating Convolutional Neural Networks (with the <tt>LeNet</tt> architecture) and the Naive Bayes Classifier"
   ]
  },
  {
   "cell_type": "markdown",
   "metadata": {},
   "source": [
    "<div class='alert alert-info'>\n",
    "Convolutional Neural Networks actually represent one of the most powerful methods to face image classification problems (<a href=\"https://en.wikipedia.org/wiki/Convolutional_neural_network\">source</a>).<br>\n",
    "<br>\n",
    "The simplest architecture is the <tt>LeNet</tt> (<a href=\"http://yann.lecun.com/exdb/lenet/\">source</a>): two convolution layers alternated by the max pooling phase, followed by a flatten phase and a set of fully connected layers.\n",
    "<img src=\"https://raw.githubusercontent.com/udacity/CarND-LeNet-Lab/master/lenet.png\">\n",
    "<br>\n",
    "Let's implement the model using Keras:\n",
    "</div>"
   ]
  },
  {
   "cell_type": "code",
   "execution_count": 29,
   "metadata": {},
   "outputs": [],
   "source": [
    "%%capture\n",
    "\n",
    "from keras import backend as K\n",
    "from keras.models import Sequential, Model\n",
    "from keras.layers import Dense, Dropout, Flatten, Conv2D, MaxPooling2D\n",
    "from keras.utils import to_categorical"
   ]
  },
  {
   "cell_type": "code",
   "execution_count": 30,
   "metadata": {},
   "outputs": [],
   "source": [
    "class LeNetCNN:\n",
    "    \n",
    "    def reshape(self, train, target, test, correct, num_classes, input_shape):\n",
    "        \n",
    "        # DESIRED INPUT SHAPE\n",
    "        h, w, c = self.input_shape = input_shape\n",
    "        self.num_classes = num_classes\n",
    "        \n",
    "        # RESHAPE\n",
    "        # Train set\n",
    "        self.train = train.reshape((train.shape[0], h, w, c)).astype('float32')\n",
    "        self.target_bin = to_categorical(target, num_classes)\n",
    "\n",
    "        # Test set\n",
    "        self.test = test.reshape((test.shape[0], h, w, c)).astype('float32')\n",
    "        self.correct_bin = to_categorical(correct, num_classes)\n",
    "        \n",
    "        return self.train, self.test\n",
    "        \n",
    "        \n",
    "    def buildAndRun(self, batch_size, epochs):\n",
    "        \n",
    "        # MODEL CONSTRUCTION (LeNet architecture)\n",
    "        model = Sequential()\n",
    "        model.add(Conv2D(32, kernel_size=(3, 3), activation='relu', input_shape=self.input_shape))\n",
    "        model.add(MaxPooling2D(pool_size=(2, 2)))\n",
    "        model.add(Conv2D(64, kernel_size=(3, 3), activation='relu'))\n",
    "        model.add(MaxPooling2D(pool_size=(2, 2)))\n",
    "        model.add(Dropout(0.25))\n",
    "        model.add(Flatten())\n",
    "        model.add(Dense(128, activation='relu', name=\"intermediate\"))\n",
    "        model.add(Dropout(0.5))\n",
    "        model.add(Dense(self.num_classes, activation='softmax'))\n",
    "\n",
    "        # MODEL COMPILING\n",
    "        model.compile(loss=\"categorical_crossentropy\", optimizer=\"adadelta\", metrics=['accuracy'])\n",
    "        \n",
    "        # TRAIN\n",
    "        model.fit(self.train,\n",
    "                  self.target_bin,\n",
    "                  batch_size=batch_size,\n",
    "                  epochs=epochs,\n",
    "                  verbose=1,\n",
    "                  validation_split=0.1)\n",
    "\n",
    "        # PREDICT\n",
    "        score = model.evaluate(self.test, self.correct_bin, verbose=0)\n",
    "        print(\"\\nConvolutional Neural Network:\")\n",
    "        print(' - Loss: %.2f' % (score[0]))\n",
    "        print(' - Accuracy: %.2f%%' % (score[1]*100))\n",
    "    \n",
    "        return model"
   ]
  },
  {
   "cell_type": "markdown",
   "metadata": {},
   "source": [
    "<div class='alert alert-info'>\n",
    "Now let's run the model with our two dataset:\n",
    "</div>"
   ]
  },
  {
   "cell_type": "markdown",
   "metadata": {},
   "source": [
    "### <div class=\"label label-success\">FASHION-MNIST</div>"
   ]
  },
  {
   "cell_type": "code",
   "execution_count": 31,
   "metadata": {},
   "outputs": [
    {
     "name": "stdout",
     "output_type": "stream",
     "text": [
      "Train on 54000 samples, validate on 6000 samples\n",
      "Epoch 1/5\n",
      "54000/54000 [==============================] - 66s 1ms/step - loss: 0.7013 - acc: 0.7424 - val_loss: 0.4462 - val_acc: 0.8382\n",
      "Epoch 2/5\n",
      "54000/54000 [==============================] - 63s 1ms/step - loss: 0.4566 - acc: 0.8344 - val_loss: 0.3731 - val_acc: 0.8670\n",
      "Epoch 3/5\n",
      "54000/54000 [==============================] - 66s 1ms/step - loss: 0.4011 - acc: 0.8573 - val_loss: 0.3358 - val_acc: 0.8805\n",
      "Epoch 4/5\n",
      "54000/54000 [==============================] - 63s 1ms/step - loss: 0.3661 - acc: 0.8680 - val_loss: 0.3088 - val_acc: 0.8903\n",
      "Epoch 5/5\n",
      "54000/54000 [==============================] - 64s 1ms/step - loss: 0.3435 - acc: 0.8764 - val_loss: 0.2934 - val_acc: 0.8983\n",
      "\n",
      "Convolutional Neural Network:\n",
      " - Loss: 0.28\n",
      " - Accuracy: 89.84%\n"
     ]
    }
   ],
   "source": [
    "# BUILD, RESHAPE THE DATASETS AND RUN THE CNN\n",
    "cnn = LeNetCNN()\n",
    "\n",
    "train, test = cnn.reshape(mnistTrain, mnistTarget, mnistTest, mnistCorrect,\n",
    "                          num_classes = 10, input_shape = (28,28,1))\n",
    "\n",
    "model = cnn.buildAndRun(batch_size = 128, epochs = 5)"
   ]
  },
  {
   "cell_type": "markdown",
   "metadata": {},
   "source": [
    "<div class='alert alert-success'>\n",
    "The accuracy of the output of the neural network is not bad at all. However, we're not interested in it, but in using the intermediate model built after the two <i>\"Convolution -> ReLU activation -> Pooling\"</i> phases, right after the outputs are flattened.<br>\n",
    "<br>\n",
    "Now the <tt>intermediate_model</tt> will be used to generate the intermediate trainset and testset which will be given as input to the Naive Bayes Classifier.\n",
    "</div>"
   ]
  },
  {
   "cell_type": "code",
   "execution_count": 32,
   "metadata": {},
   "outputs": [
    {
     "name": "stdout",
     "output_type": "stream",
     "text": [
      "Train time: 0.188 seconds\n",
      "Test time:  0.114 seconds\n",
      "\n",
      "Accuracy: 89.37%\n",
      "Likelihood sum: 878643581\n"
     ]
    }
   ],
   "source": [
    "# EXTRACT THE MODEL OF THE INTERMEDIATE LAYER\n",
    "model_intermediate = Model(inputs=model.input, outputs=model.get_layer(\"intermediate\").output)\n",
    "\n",
    "# PREDICT TO GET THE INTERMEDIATE TRAINSET AND TESTSET\n",
    "train_intermediate = model_intermediate.predict(train)\n",
    "test_intermediate = model_intermediate.predict(test)\n",
    "\n",
    "# CLASSIFY MNIST\n",
    "mnistCM = classify(train = train_intermediate,\n",
    "          target = mnistTarget,\n",
    "          test = test_intermediate,\n",
    "          correct = mnistCorrect)"
   ]
  },
  {
   "cell_type": "markdown",
   "metadata": {},
   "source": [
    "### <div class=\"label label-warning\">CIFAR-10</div>"
   ]
  },
  {
   "cell_type": "code",
   "execution_count": 33,
   "metadata": {},
   "outputs": [
    {
     "name": "stdout",
     "output_type": "stream",
     "text": [
      "Train on 45000 samples, validate on 5000 samples\n",
      "Epoch 1/5\n",
      "45000/45000 [==============================] - 82s 2ms/step - loss: 1.9286 - acc: 0.3021 - val_loss: 1.5809 - val_acc: 0.4394\n",
      "Epoch 2/5\n",
      "45000/45000 [==============================] - 79s 2ms/step - loss: 1.5904 - acc: 0.4322 - val_loss: 1.4148 - val_acc: 0.4830\n",
      "Epoch 3/5\n",
      "45000/45000 [==============================] - 82s 2ms/step - loss: 1.4593 - acc: 0.4802 - val_loss: 1.4011 - val_acc: 0.4910\n",
      "Epoch 4/5\n",
      "45000/45000 [==============================] - 87s 2ms/step - loss: 1.3754 - acc: 0.5140 - val_loss: 1.2530 - val_acc: 0.5534\n",
      "Epoch 5/5\n",
      "45000/45000 [==============================] - 88s 2ms/step - loss: 1.3117 - acc: 0.5401 - val_loss: 1.2123 - val_acc: 0.5756\n",
      "\n",
      "Convolutional Neural Network:\n",
      " - Loss: 1.23\n",
      " - Accuracy: 55.82%\n"
     ]
    }
   ],
   "source": [
    "# BUILD, RESHAPE THE DATASETS AND RUN THE CNN\n",
    "cnn = LeNetCNN()\n",
    "\n",
    "train, test = cnn.reshape(cifarTrain, cifarTarget, cifarTest, cifarCorrect,\n",
    "                          num_classes = 10, input_shape = (32,32,3))\n",
    "\n",
    "model = cnn.buildAndRun(batch_size = 128, epochs = 5)"
   ]
  },
  {
   "cell_type": "markdown",
   "metadata": {},
   "source": [
    "<div class='alert alert-warning'>\n",
    "Also in the <tt>CIFAR-10</tt> case (like in the <tt>Fashion-MNIST</tt>) the accuracy of the output of the neural network is better than the one provided by the pure Naive Bayes Classifier. However, like said before, the interest in not in the network output but in the intermediate model built after the two <i>\"Convolution -> ReLU activation -> Pooling\"</i> phases, right after the outputs are flattened.<br>\n",
    "<br>\n",
    "Now the <tt>intermediate_model</tt> will be used to generate the intermediate trainset and testset which will be given as input to the Naive Bayes Classifier.\n",
    "</div>"
   ]
  },
  {
   "cell_type": "code",
   "execution_count": 34,
   "metadata": {},
   "outputs": [
    {
     "name": "stdout",
     "output_type": "stream",
     "text": [
      "Train time: 0.193 seconds\n",
      "Test time:  0.095 seconds\n",
      "\n",
      "Accuracy: 56.85%\n",
      "Likelihood sum: -14639975\n"
     ]
    }
   ],
   "source": [
    "# EXTRACT THE MODEL OF THE INTERMEDIATE LAYER\n",
    "model_intermediate = Model(inputs=model.input, outputs=model.get_layer(\"intermediate\").output)\n",
    "\n",
    "# PREDICT TO GET THE INTERMEDIATE TRAINSET AND TESTSET\n",
    "train_intermediate = model_intermediate.predict(train)\n",
    "test_intermediate = model_intermediate.predict(test)\n",
    "\n",
    "# CLASSIFY CIFAR\n",
    "cifarCM = classify(train = train_intermediate,\n",
    "          target = cifarTarget,\n",
    "          test = test_intermediate,\n",
    "          correct = cifarCorrect)"
   ]
  },
  {
   "cell_type": "code",
   "execution_count": 35,
   "metadata": {},
   "outputs": [
    {
     "data": {
      "image/png": "[encoded data removed]",
      "text/plain": [
       "<Figure size 1080x576 with 2 Axes>"
      ]
     },
     "metadata": {},
     "output_type": "display_data"
    },
    {
     "name": "stdout",
     "output_type": "stream",
     "text": [
      "\n"
     ]
    }
   ],
   "source": [
    "# PLOT THE CONFUSION MATRICES\n",
    "plotConfusionMatrix(mnistCM, cifarCM, mnistClasses, cifarClasses)"
   ]
  },
  {
   "cell_type": "markdown",
   "metadata": {},
   "source": [
    "<div class='alert alert-info'>\n",
    "The performance are <b>way better</b>!<br>\n",
    "<br>\n",
    "We obtain the <b>89.37%</b> of accuracy with the <tt>Fashion-MNIST</tt> dataset, and <b>56.85%</b> of accuracy with the <tt>CIFAR-10</tt>.\n",
    "</div>"
   ]
  },
  {
   "cell_type": "code",
   "execution_count": null,
   "metadata": {},
   "outputs": [],
   "source": []
  }
 ],
 "metadata": {
  "kernelspec": {
   "display_name": "Python 3",
   "language": "python",
   "name": "python3"
  },
  "language_info": {
   "codemirror_mode": {
    "name": "ipython",
    "version": 3
   },
   "file_extension": ".py",
   "mimetype": "text/x-python",
   "name": "python",
   "nbconvert_exporter": "python",
   "pygments_lexer": "ipython3",
   "version": "3.6.5"
  },
  "toc": {
   "base_numbering": 1,
   "nav_menu": {},
   "number_sections": true,
   "sideBar": true,
   "skip_h1_title": false,
   "title_cell": "Table of Contents",
   "title_sidebar": "Contents",
   "toc_cell": false,
   "toc_position": {},
   "toc_section_display": true,
   "toc_window_display": true
  }
 },
 "nbformat": 4,
 "nbformat_minor": 2
}
